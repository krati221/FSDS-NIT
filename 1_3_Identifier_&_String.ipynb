{
  "nbformat": 4,
  "nbformat_minor": 0,
  "metadata": {
    "colab": {
      "provenance": []
    },
    "kernelspec": {
      "name": "python3",
      "display_name": "Python 3"
    },
    "language_info": {
      "name": "python"
    }
  },
  "cells": [
    {
      "cell_type": "code",
      "execution_count": null,
      "metadata": {
        "id": "dWkbZFFiMzwZ"
      },
      "outputs": [],
      "source": [
        "import sys\n",
        "import keyword\n",
        "import operator\n",
        "from datetime import datetime\n",
        "import os"
      ]
    },
    {
      "cell_type": "markdown",
      "source": [
        "Keywords : are the reserved words in pyrh and can't be used as an identifier...."
      ],
      "metadata": {
        "id": "MY3-jspiN20a"
      }
    },
    {
      "cell_type": "code",
      "source": [
        "print(keyword.kwlist)"
      ],
      "metadata": {
        "colab": {
          "base_uri": "https://localhost:8080/"
        },
        "id": "myjIuDfYNmnK",
        "outputId": "130a78f7-42e2-4ac2-f238-a5fee42db8e9"
      },
      "execution_count": null,
      "outputs": [
        {
          "output_type": "stream",
          "name": "stdout",
          "text": [
            "['False', 'None', 'True', 'and', 'as', 'assert', 'async', 'await', 'break', 'class', 'continue', 'def', 'del', 'elif', 'else', 'except', 'finally', 'for', 'from', 'global', 'if', 'import', 'in', 'is', 'lambda', 'nonlocal', 'not', 'or', 'pass', 'raise', 'return', 'try', 'while', 'with', 'yield']\n"
          ]
        }
      ]
    },
    {
      "cell_type": "code",
      "source": [
        "len(keyword.kwlist)"
      ],
      "metadata": {
        "colab": {
          "base_uri": "https://localhost:8080/"
        },
        "id": "2YwyNBUMNwQ7",
        "outputId": "706f7934-09dd-4b08-c8ae-4008874574ba"
      },
      "execution_count": null,
      "outputs": [
        {
          "output_type": "execute_result",
          "data": {
            "text/plain": [
              "35"
            ]
          },
          "metadata": {},
          "execution_count": 5
        }
      ]
    },
    {
      "cell_type": "markdown",
      "source": [
        "Identifiers:An identifiers is a name given to entities like class,function,variables,etc.It helps to defferentiate one entity from another...."
      ],
      "metadata": {
        "id": "0cRkj5JOOBTl"
      }
    },
    {
      "cell_type": "code",
      "source": [
        "1var = 10 #identifier can't start with digit"
      ],
      "metadata": {
        "id": "9ljFAANkN1MS"
      },
      "execution_count": null,
      "outputs": []
    },
    {
      "cell_type": "code",
      "source": [
        "val2@ = 35 #identifiers can't use special symbol"
      ],
      "metadata": {
        "id": "3qQ6utlTOYcs"
      },
      "execution_count": null,
      "outputs": []
    },
    {
      "cell_type": "code",
      "source": [
        "import = 125 #keywords can't be used as identifiers"
      ],
      "metadata": {
        "id": "o-hYmo6TOfzU"
      },
      "execution_count": null,
      "outputs": []
    },
    {
      "cell_type": "code",
      "source": [
        "val2 = 10\n",
        "val2"
      ],
      "metadata": {
        "colab": {
          "base_uri": "https://localhost:8080/"
        },
        "id": "CYdeEL2dOn8p",
        "outputId": "3b8ffc85-7af8-4ba5-c9b3-220598be9405"
      },
      "execution_count": null,
      "outputs": [
        {
          "output_type": "execute_result",
          "data": {
            "text/plain": [
              "10"
            ]
          },
          "metadata": {},
          "execution_count": 7
        }
      ]
    },
    {
      "cell_type": "code",
      "source": [
        "val_=99\n",
        "val_"
      ],
      "metadata": {
        "colab": {
          "base_uri": "https://localhost:8080/"
        },
        "id": "FYs4uWIDOsf9",
        "outputId": "807f1b5f-df97-41fa-e5f8-be133427fc56"
      },
      "execution_count": null,
      "outputs": [
        {
          "output_type": "execute_result",
          "data": {
            "text/plain": [
              "99"
            ]
          },
          "metadata": {},
          "execution_count": 9
        }
      ]
    },
    {
      "cell_type": "code",
      "source": [
        "#Comments\n",
        "val1=10\n",
        "val1"
      ],
      "metadata": {
        "colab": {
          "base_uri": "https://localhost:8080/"
        },
        "id": "TsT1wvt2OvoW",
        "outputId": "b44a9546-abcb-4221-d476-242675ac81b1"
      },
      "execution_count": null,
      "outputs": [
        {
          "output_type": "execute_result",
          "data": {
            "text/plain": [
              "10"
            ]
          },
          "metadata": {},
          "execution_count": 11
        }
      ]
    },
    {
      "cell_type": "code",
      "source": [
        "#Multiple\n",
        "#Line\n",
        "#comment\n",
        "'''Multi\n",
        "line\n",
        "comment'''"
      ],
      "metadata": {
        "id": "clT_Tu8qO3xh"
      },
      "execution_count": null,
      "outputs": []
    },
    {
      "cell_type": "code",
      "source": [
        "\"\"\"Multiple\n",
        "Line\n",
        "Comment\"\"\""
      ],
      "metadata": {
        "id": "tMRXtgFDPCow"
      },
      "execution_count": null,
      "outputs": []
    },
    {
      "cell_type": "markdown",
      "source": [
        "Statements:Instructions that a python interpreter can execute ...."
      ],
      "metadata": {
        "id": "j26xTaSsPLq4"
      }
    },
    {
      "cell_type": "code",
      "source": [
        "#Statements\n",
        "p=20 #create an integer object with value 20 and assings the variable p to p\n",
        "q=20 #create new refrence q which will point to value 20.p & q will be point\n",
        "r=q #variable r will also point to the same location where p & q are pointin\n",
        "print(p , type(p) , hex(id(p))) # variable p is pointing to memory location '0x7fff6d71a'\n",
        "print(q , type(q),hex(id(q)))\n",
        "print(r , type(r),hex(id(r)))"
      ],
      "metadata": {
        "colab": {
          "base_uri": "https://localhost:8080/"
        },
        "id": "oVmReOQAPHst",
        "outputId": "cad01a7b-3acf-439b-c8f9-efde28ffbf0f"
      },
      "execution_count": null,
      "outputs": [
        {
          "output_type": "stream",
          "name": "stdout",
          "text": [
            "20 <class 'int'> 0xa428c8\n",
            "20 <class 'int'> 0xa428c8\n",
            "20 <class 'int'> 0xa428c8\n"
          ]
        }
      ]
    },
    {
      "cell_type": "code",
      "source": [
        "p = 20\n",
        "p = p + 10\n",
        "print(p)"
      ],
      "metadata": {
        "colab": {
          "base_uri": "https://localhost:8080/"
        },
        "id": "wV9FkGxKQR-a",
        "outputId": "7836a29a-2029-4d48-95ef-5df525f4e681"
      },
      "execution_count": null,
      "outputs": [
        {
          "output_type": "stream",
          "name": "stdout",
          "text": [
            "30\n"
          ]
        }
      ]
    },
    {
      "cell_type": "code",
      "source": [
        "intvar = 10 #integer variable\n",
        "floatvar=2.57\n",
        "strvar = \"Python Language\"\n",
        "print(intvar)\n",
        "print(floatvar)\n",
        "print(strvar)"
      ],
      "metadata": {
        "colab": {
          "base_uri": "https://localhost:8080/"
        },
        "id": "XMzH50W0RHNL",
        "outputId": "436c5a40-3ee9-4ede-92b9-c6695bb709d2"
      },
      "execution_count": null,
      "outputs": [
        {
          "output_type": "stream",
          "name": "stdout",
          "text": [
            "10\n",
            "2.57\n",
            "Python Language\n"
          ]
        }
      ]
    },
    {
      "cell_type": "code",
      "source": [
        "#Multi assingment\n",
        "intvar , floatvar,strvar,=10,2.34,'Python Language' #Use commas to saperate\n",
        "print(intvar)\n",
        "print(floatvar)\n",
        "print(strvar)"
      ],
      "metadata": {
        "colab": {
          "base_uri": "https://localhost:8080/"
        },
        "id": "F4tix1caRVhb",
        "outputId": "13cb5b6f-3631-45d8-979d-17c4955da2b5"
      },
      "execution_count": null,
      "outputs": [
        {
          "output_type": "stream",
          "name": "stdout",
          "text": [
            "10\n",
            "2.34\n",
            "Python Language\n"
          ]
        }
      ]
    },
    {
      "cell_type": "code",
      "source": [
        "#all variable pointing same variable\n",
        "p1=p2=p3=p4=44\n",
        "print(hex(id(p1)))\n",
        "print(hex(id(p2)))\n",
        "print(hex(id(p3)))\n",
        "print(hex(id(p4)))"
      ],
      "metadata": {
        "colab": {
          "base_uri": "https://localhost:8080/"
        },
        "id": "_kdI2CAORjjn",
        "outputId": "30a90ae7-421e-4dd7-bebd-77a7095d4316"
      },
      "execution_count": null,
      "outputs": [
        {
          "output_type": "stream",
          "name": "stdout",
          "text": [
            "0xa42bc8\n",
            "0xa42bc8\n",
            "0xa42bc8\n",
            "0xa42bc8\n"
          ]
        }
      ]
    },
    {
      "cell_type": "code",
      "source": [
        "#Data types\n",
        "val1 = 10\n",
        "print(type(val1))\n",
        "print(sys.getsizeof(val1)) #size of integer object in bytes\n",
        "print(val1,'is integer',isinstance(val1,int)) #Val1 is an instance of int"
      ],
      "metadata": {
        "colab": {
          "base_uri": "https://localhost:8080/"
        },
        "id": "N86UMCZBR4hM",
        "outputId": "a1e12402-83f8-44fb-c9fd-fd60e0548ca0"
      },
      "execution_count": null,
      "outputs": [
        {
          "output_type": "stream",
          "name": "stdout",
          "text": [
            "<class 'int'>\n",
            "28\n",
            "10 is integer True\n"
          ]
        }
      ]
    },
    {
      "cell_type": "code",
      "source": [
        "val2 = 22.3\n",
        "print(val2)\n",
        "print(type(val2))\n",
        "print(sys.getsizeof(val2))\n",
        "print(val2,'is integer',isinstance(val1,float))"
      ],
      "metadata": {
        "colab": {
          "base_uri": "https://localhost:8080/"
        },
        "id": "MDcoTr8CSYwZ",
        "outputId": "7849b1c0-49ad-4a59-80bc-e2fc54477fe5"
      },
      "execution_count": null,
      "outputs": [
        {
          "output_type": "stream",
          "name": "stdout",
          "text": [
            "22.3\n",
            "<class 'float'>\n",
            "24\n",
            "22.3 is integer False\n"
          ]
        }
      ]
    },
    {
      "cell_type": "code",
      "source": [
        "val3 = 25+10j\n",
        "print(val3)\n",
        "print(sys.getsizeof(val3))\n",
        "print(type(val3))\n",
        "print(val3,'is complex',isinstance(val3,complex))"
      ],
      "metadata": {
        "colab": {
          "base_uri": "https://localhost:8080/"
        },
        "id": "r66O9ECgSvfK",
        "outputId": "d5dd501f-e246-45cd-e456-5231145a704a"
      },
      "execution_count": null,
      "outputs": [
        {
          "output_type": "stream",
          "name": "stdout",
          "text": [
            "(25+10j)\n",
            "32\n",
            "<class 'complex'>\n",
            "(25+10j) is complex True\n"
          ]
        }
      ]
    },
    {
      "cell_type": "code",
      "source": [
        "sys.getsizeof(int()) #size of integer object in bytes"
      ],
      "metadata": {
        "colab": {
          "base_uri": "https://localhost:8080/"
        },
        "id": "gN3X8LsQTSF4",
        "outputId": "7eb9da40-ea29-47dd-ebf8-e9a091379737"
      },
      "execution_count": null,
      "outputs": [
        {
          "output_type": "execute_result",
          "data": {
            "text/plain": [
              "28"
            ]
          },
          "metadata": {},
          "execution_count": 26
        }
      ]
    },
    {
      "cell_type": "code",
      "source": [
        "sys.getsizeof(float())"
      ],
      "metadata": {
        "colab": {
          "base_uri": "https://localhost:8080/"
        },
        "id": "MnLssXh9TcWy",
        "outputId": "99d65e03-4781-41f2-f432-0ac1236d4b7d"
      },
      "execution_count": null,
      "outputs": [
        {
          "output_type": "execute_result",
          "data": {
            "text/plain": [
              "24"
            ]
          },
          "metadata": {},
          "execution_count": 27
        }
      ]
    },
    {
      "cell_type": "code",
      "source": [
        "sys.getsizeof(complex())"
      ],
      "metadata": {
        "colab": {
          "base_uri": "https://localhost:8080/"
        },
        "id": "rAK055BsTgP1",
        "outputId": "0c445cc4-9214-44f0-d2a3-c3a23e653179"
      },
      "execution_count": null,
      "outputs": [
        {
          "output_type": "execute_result",
          "data": {
            "text/plain": [
              "32"
            ]
          },
          "metadata": {},
          "execution_count": 28
        }
      ]
    },
    {
      "cell_type": "code",
      "source": [
        "sys.getsizeof(str())"
      ],
      "metadata": {
        "colab": {
          "base_uri": "https://localhost:8080/"
        },
        "id": "-xk4h5F5Tj9f",
        "outputId": "cd1be49a-4105-45f8-d283-bfbc62d0e427"
      },
      "execution_count": null,
      "outputs": [
        {
          "output_type": "execute_result",
          "data": {
            "text/plain": [
              "49"
            ]
          },
          "metadata": {},
          "execution_count": 29
        }
      ]
    },
    {
      "cell_type": "markdown",
      "source": [
        "#Boolean:data type can have only teo possible values true or false..."
      ],
      "metadata": {
        "id": "RHycUvGFTro9"
      }
    },
    {
      "cell_type": "code",
      "source": [
        "bool1 = True\n",
        "bool1"
      ],
      "metadata": {
        "colab": {
          "base_uri": "https://localhost:8080/"
        },
        "id": "yI74fV4dTzSY",
        "outputId": "d229344d-e16b-4af5-e832-14597cb4b776"
      },
      "execution_count": null,
      "outputs": [
        {
          "output_type": "execute_result",
          "data": {
            "text/plain": [
              "True"
            ]
          },
          "metadata": {},
          "execution_count": 31
        }
      ]
    },
    {
      "cell_type": "code",
      "source": [
        "bool2 = False\n",
        "bool2"
      ],
      "metadata": {
        "colab": {
          "base_uri": "https://localhost:8080/"
        },
        "id": "eHuaJ42rT28b",
        "outputId": "fe43137e-4494-4451-fcc2-ddc4b3e05f91"
      },
      "execution_count": null,
      "outputs": [
        {
          "output_type": "execute_result",
          "data": {
            "text/plain": [
              "False"
            ]
          },
          "metadata": {},
          "execution_count": 32
        }
      ]
    },
    {
      "cell_type": "code",
      "source": [
        "print(type(bool1))\n",
        "print(type(bool2))"
      ],
      "metadata": {
        "colab": {
          "base_uri": "https://localhost:8080/"
        },
        "id": "DF1_a3dCT6c0",
        "outputId": "1ec6c83a-8b23-465b-9c63-567a690f6dd0"
      },
      "execution_count": null,
      "outputs": [
        {
          "output_type": "stream",
          "name": "stdout",
          "text": [
            "<class 'bool'>\n",
            "<class 'bool'>\n"
          ]
        }
      ]
    },
    {
      "cell_type": "code",
      "source": [
        "isinstance(bool1,bool)"
      ],
      "metadata": {
        "colab": {
          "base_uri": "https://localhost:8080/"
        },
        "id": "kAaNhf4nT94-",
        "outputId": "a159625e-fef6-4eba-cca0-84cbb8547021"
      },
      "execution_count": null,
      "outputs": [
        {
          "output_type": "execute_result",
          "data": {
            "text/plain": [
              "True"
            ]
          },
          "metadata": {},
          "execution_count": 35
        }
      ]
    },
    {
      "cell_type": "code",
      "source": [
        "bool(0)"
      ],
      "metadata": {
        "colab": {
          "base_uri": "https://localhost:8080/"
        },
        "id": "M1sBOYM5UEql",
        "outputId": "3bcc52cb-3f6b-4cd9-bdfd-36bec5717499"
      },
      "execution_count": null,
      "outputs": [
        {
          "output_type": "execute_result",
          "data": {
            "text/plain": [
              "False"
            ]
          },
          "metadata": {},
          "execution_count": 37
        }
      ]
    },
    {
      "cell_type": "code",
      "source": [
        "bool(23.2)"
      ],
      "metadata": {
        "colab": {
          "base_uri": "https://localhost:8080/"
        },
        "id": "G36xvaYOUG6t",
        "outputId": "f76b00c5-2ae5-48c6-9399-935d369be6d2"
      },
      "execution_count": null,
      "outputs": [
        {
          "output_type": "execute_result",
          "data": {
            "text/plain": [
              "True"
            ]
          },
          "metadata": {},
          "execution_count": 38
        }
      ]
    },
    {
      "cell_type": "code",
      "source": [
        "bool('ten')"
      ],
      "metadata": {
        "colab": {
          "base_uri": "https://localhost:8080/"
        },
        "id": "LVgSmnAaUIug",
        "outputId": "624b581d-1078-480f-b7c2-b2e3f8a80e94"
      },
      "execution_count": null,
      "outputs": [
        {
          "output_type": "execute_result",
          "data": {
            "text/plain": [
              "True"
            ]
          },
          "metadata": {},
          "execution_count": 39
        }
      ]
    },
    {
      "cell_type": "code",
      "source": [
        "bool(0+0j)"
      ],
      "metadata": {
        "colab": {
          "base_uri": "https://localhost:8080/"
        },
        "id": "QqU_s_CDULJi",
        "outputId": "049d5356-c8a6-4b2c-f4b3-6eb94cb6fbfd"
      },
      "execution_count": null,
      "outputs": [
        {
          "output_type": "execute_result",
          "data": {
            "text/plain": [
              "False"
            ]
          },
          "metadata": {},
          "execution_count": 40
        }
      ]
    },
    {
      "cell_type": "code",
      "source": [
        "bool(None)"
      ],
      "metadata": {
        "colab": {
          "base_uri": "https://localhost:8080/"
        },
        "id": "UV-NAmkqUNNK",
        "outputId": "c214b210-9ef3-45c9-e2ae-d37f52480c63"
      },
      "execution_count": null,
      "outputs": [
        {
          "output_type": "execute_result",
          "data": {
            "text/plain": [
              "False"
            ]
          },
          "metadata": {},
          "execution_count": 42
        }
      ]
    },
    {
      "cell_type": "code",
      "source": [
        "bool(1)"
      ],
      "metadata": {
        "colab": {
          "base_uri": "https://localhost:8080/"
        },
        "id": "-Y2Nmv11USR4",
        "outputId": "a7242c53-c4c1-4a5b-ae99-018f7263c8ae"
      },
      "execution_count": null,
      "outputs": [
        {
          "output_type": "execute_result",
          "data": {
            "text/plain": [
              "True"
            ]
          },
          "metadata": {},
          "execution_count": 43
        }
      ]
    },
    {
      "cell_type": "code",
      "source": [
        "str1 = \"Hello Python\" #String using double quotes\n",
        "print(str1)"
      ],
      "metadata": {
        "colab": {
          "base_uri": "https://localhost:8080/"
        },
        "id": "MjSl4rfnUT5O",
        "outputId": "8159d9d3-cfdb-48b6-82f9-9134bf60d0eb"
      },
      "execution_count": null,
      "outputs": [
        {
          "output_type": "stream",
          "name": "stdout",
          "text": [
            "Hello Python\n"
          ]
        }
      ]
    },
    {
      "cell_type": "code",
      "source": [
        "mystr='Hello World' #String using single quotes"
      ],
      "metadata": {
        "id": "ug62gHByUdlx"
      },
      "execution_count": null,
      "outputs": []
    },
    {
      "cell_type": "code",
      "source": [
        "mystr = ''' Hello\n",
        "            Python'''\n",
        "\n",
        "print(mystr)"
      ],
      "metadata": {
        "colab": {
          "base_uri": "https://localhost:8080/"
        },
        "id": "xQpnHviEUsjF",
        "outputId": "f906a047-1df8-47c5-c2f9-ec6b0e18e156"
      },
      "execution_count": null,
      "outputs": [
        {
          "output_type": "stream",
          "name": "stdout",
          "text": [
            " Hello\n",
            "            Python\n"
          ]
        }
      ]
    },
    {
      "cell_type": "code",
      "source": [
        "mystr1 = ('Happy\\t'\n",
        "'Monday\\t'\n",
        "'Everyone')\n",
        "print(mystr1)"
      ],
      "metadata": {
        "colab": {
          "base_uri": "https://localhost:8080/"
        },
        "id": "IXiKKOR6UnzO",
        "outputId": "1b9213ec-40da-4436-d2f5-2a1a268eb744"
      },
      "execution_count": null,
      "outputs": [
        {
          "output_type": "stream",
          "name": "stdout",
          "text": [
            "Happy\tMonday\tEveryone\n"
          ]
        }
      ]
    },
    {
      "cell_type": "code",
      "source": [
        "mystr2 = 'Wohoo '\n",
        "mystr2 = mystr2 * 5\n",
        "mystr2"
      ],
      "metadata": {
        "colab": {
          "base_uri": "https://localhost:8080/",
          "height": 36
        },
        "id": "vT8FdxVQU0Vl",
        "outputId": "4c4ab66d-27d9-46ce-ddd5-449f0f7069af"
      },
      "execution_count": null,
      "outputs": [
        {
          "output_type": "execute_result",
          "data": {
            "text/plain": [
              "'Wohoo Wohoo Wohoo Wohoo Wohoo '"
            ],
            "application/vnd.google.colaboratory.intrinsic+json": {
              "type": "string"
            }
          },
          "metadata": {},
          "execution_count": 50
        }
      ]
    },
    {
      "cell_type": "code",
      "source": [
        "len(mystr2)"
      ],
      "metadata": {
        "colab": {
          "base_uri": "https://localhost:8080/"
        },
        "id": "yZ4VBQbqU0SA",
        "outputId": "8cbd0e79-9897-47fa-87c0-6e82362d76a2"
      },
      "execution_count": null,
      "outputs": [
        {
          "output_type": "execute_result",
          "data": {
            "text/plain": [
              "30"
            ]
          },
          "metadata": {},
          "execution_count": 51
        }
      ]
    },
    {
      "cell_type": "markdown",
      "source": [
        "String indexing"
      ],
      "metadata": {
        "id": "ueOZz1hAVuH_"
      }
    },
    {
      "cell_type": "code",
      "source": [
        "str1 = 'HELLO PYTHON'\n",
        "str1[0]"
      ],
      "metadata": {
        "colab": {
          "base_uri": "https://localhost:8080/",
          "height": 36
        },
        "id": "4w-ZydMvU0P_",
        "outputId": "38cd3280-fd20-441f-fbdf-85c67aaf0772"
      },
      "execution_count": null,
      "outputs": [
        {
          "output_type": "execute_result",
          "data": {
            "text/plain": [
              "'H'"
            ],
            "application/vnd.google.colaboratory.intrinsic+json": {
              "type": "string"
            }
          },
          "metadata": {},
          "execution_count": 53
        }
      ]
    },
    {
      "cell_type": "code",
      "source": [
        "str1[len(str1)-1]"
      ],
      "metadata": {
        "colab": {
          "base_uri": "https://localhost:8080/",
          "height": 36
        },
        "id": "Qa12wWO5U0Ft",
        "outputId": "3a2bb306-c959-49d8-a305-d05025b2d4d4"
      },
      "execution_count": null,
      "outputs": [
        {
          "output_type": "execute_result",
          "data": {
            "text/plain": [
              "'N'"
            ],
            "application/vnd.google.colaboratory.intrinsic+json": {
              "type": "string"
            }
          },
          "metadata": {},
          "execution_count": 54
        }
      ]
    },
    {
      "cell_type": "code",
      "source": [
        "str1[-1]"
      ],
      "metadata": {
        "colab": {
          "base_uri": "https://localhost:8080/",
          "height": 36
        },
        "id": "um2SkpkSVgPF",
        "outputId": "8d4e182a-6fe6-4a61-f2a9-2118144d9c13"
      },
      "execution_count": null,
      "outputs": [
        {
          "output_type": "execute_result",
          "data": {
            "text/plain": [
              "'N'"
            ],
            "application/vnd.google.colaboratory.intrinsic+json": {
              "type": "string"
            }
          },
          "metadata": {},
          "execution_count": 55
        }
      ]
    },
    {
      "cell_type": "code",
      "source": [
        "str1[6]"
      ],
      "metadata": {
        "colab": {
          "base_uri": "https://localhost:8080/",
          "height": 36
        },
        "id": "4um3-cLQVjGu",
        "outputId": "a75adf21-a473-4c26-cd02-5cb2cc491511"
      },
      "execution_count": null,
      "outputs": [
        {
          "output_type": "execute_result",
          "data": {
            "text/plain": [
              "'P'"
            ],
            "application/vnd.google.colaboratory.intrinsic+json": {
              "type": "string"
            }
          },
          "metadata": {},
          "execution_count": 56
        }
      ]
    },
    {
      "cell_type": "code",
      "source": [
        "str1[5]"
      ],
      "metadata": {
        "colab": {
          "base_uri": "https://localhost:8080/",
          "height": 36
        },
        "id": "0I9PdgcQVlWs",
        "outputId": "eda66959-d553-4f91-c135-4c9175a0feca"
      },
      "execution_count": null,
      "outputs": [
        {
          "output_type": "execute_result",
          "data": {
            "text/plain": [
              "' '"
            ],
            "application/vnd.google.colaboratory.intrinsic+json": {
              "type": "string"
            }
          },
          "metadata": {},
          "execution_count": 57
        }
      ]
    },
    {
      "cell_type": "code",
      "source": [
        "#String Slicing\n",
        "str2 = 'Hello Python'\n",
        "str2[0:5] #string slicing-fetch all charachters from 0 to 5 index location execution"
      ],
      "metadata": {
        "colab": {
          "base_uri": "https://localhost:8080/",
          "height": 36
        },
        "id": "hbObFYv2Vqyp",
        "outputId": "1aef6f08-97db-4e25-fcaf-f40a0251b522"
      },
      "execution_count": null,
      "outputs": [
        {
          "output_type": "execute_result",
          "data": {
            "text/plain": [
              "'Hello'"
            ],
            "application/vnd.google.colaboratory.intrinsic+json": {
              "type": "string"
            }
          },
          "metadata": {},
          "execution_count": 69
        }
      ]
    },
    {
      "cell_type": "code",
      "source": [
        "str1[6:12] #retreive all charachters between 6 to 12 index location execution"
      ],
      "metadata": {
        "colab": {
          "base_uri": "https://localhost:8080/",
          "height": 36
        },
        "id": "x_7H54ZlV2jx",
        "outputId": "81b30e9a-9b88-4806-f19d-4bc53d13110d"
      },
      "execution_count": null,
      "outputs": [
        {
          "output_type": "execute_result",
          "data": {
            "text/plain": [
              "'Python'"
            ],
            "application/vnd.google.colaboratory.intrinsic+json": {
              "type": "string"
            }
          },
          "metadata": {},
          "execution_count": 70
        }
      ]
    },
    {
      "cell_type": "code",
      "source": [
        "str1 = 'Hello python'\n",
        "str1[-4:] #retreive last four charachters of string"
      ],
      "metadata": {
        "colab": {
          "base_uri": "https://localhost:8080/",
          "height": 36
        },
        "id": "gD6YYFviV6pN",
        "outputId": "3b8688e5-0fb3-493e-fd7f-722ab56305f3"
      },
      "execution_count": null,
      "outputs": [
        {
          "output_type": "execute_result",
          "data": {
            "text/plain": [
              "'thon'"
            ],
            "application/vnd.google.colaboratory.intrinsic+json": {
              "type": "string"
            }
          },
          "metadata": {},
          "execution_count": 71
        }
      ]
    },
    {
      "cell_type": "code",
      "source": [
        "str2[-6:]"
      ],
      "metadata": {
        "colab": {
          "base_uri": "https://localhost:8080/",
          "height": 36
        },
        "id": "71WQVYlZWGL4",
        "outputId": "503c888f-b920-483e-cff4-81da997a69e7"
      },
      "execution_count": null,
      "outputs": [
        {
          "output_type": "execute_result",
          "data": {
            "text/plain": [
              "'Python'"
            ],
            "application/vnd.google.colaboratory.intrinsic+json": {
              "type": "string"
            }
          },
          "metadata": {},
          "execution_count": 72
        }
      ]
    },
    {
      "cell_type": "code",
      "source": [
        "str1[:4]"
      ],
      "metadata": {
        "colab": {
          "base_uri": "https://localhost:8080/",
          "height": 36
        },
        "id": "ZolW8DzcXG8f",
        "outputId": "dd05ff7e-bfeb-4cc4-b51a-fab842c3b079"
      },
      "execution_count": null,
      "outputs": [
        {
          "output_type": "execute_result",
          "data": {
            "text/plain": [
              "'Hell'"
            ],
            "application/vnd.google.colaboratory.intrinsic+json": {
              "type": "string"
            }
          },
          "metadata": {},
          "execution_count": 73
        }
      ]
    },
    {
      "cell_type": "code",
      "source": [
        "str1[:6]"
      ],
      "metadata": {
        "colab": {
          "base_uri": "https://localhost:8080/",
          "height": 36
        },
        "id": "jN1nSQoqXI7w",
        "outputId": "07f565c0-87ca-49e5-d9b9-9a6d53d9c5bc"
      },
      "execution_count": null,
      "outputs": [
        {
          "output_type": "execute_result",
          "data": {
            "text/plain": [
              "'Hello '"
            ],
            "application/vnd.google.colaboratory.intrinsic+json": {
              "type": "string"
            }
          },
          "metadata": {},
          "execution_count": 74
        }
      ]
    },
    {
      "cell_type": "code",
      "source": [
        "#Update and Delete String\n",
        "str1"
      ],
      "metadata": {
        "colab": {
          "base_uri": "https://localhost:8080/",
          "height": 36
        },
        "id": "L_nnLUIrXN3_",
        "outputId": "c91b34cc-725e-41d3-dd8f-c04afb2bd4dd"
      },
      "execution_count": null,
      "outputs": [
        {
          "output_type": "execute_result",
          "data": {
            "text/plain": [
              "'Hello python'"
            ],
            "application/vnd.google.colaboratory.intrinsic+json": {
              "type": "string"
            }
          },
          "metadata": {},
          "execution_count": 75
        }
      ]
    },
    {
      "cell_type": "code",
      "source": [
        "str1[0:5] = 'HOLAA'  #String is immutable which means string cannot change"
      ],
      "metadata": {
        "colab": {
          "base_uri": "https://localhost:8080/",
          "height": 141
        },
        "id": "CjvLPvXsXS3T",
        "outputId": "cef88a48-8f06-476c-d888-b411f2a7be35"
      },
      "execution_count": null,
      "outputs": [
        {
          "output_type": "error",
          "ename": "TypeError",
          "evalue": "'str' object does not support item assignment",
          "traceback": [
            "\u001b[0;31m---------------------------------------------------------------------------\u001b[0m",
            "\u001b[0;31mTypeError\u001b[0m                                 Traceback (most recent call last)",
            "\u001b[0;32m/tmp/ipython-input-2794791579.py\u001b[0m in \u001b[0;36m<cell line: 0>\u001b[0;34m()\u001b[0m\n\u001b[0;32m----> 1\u001b[0;31m \u001b[0mstr1\u001b[0m\u001b[0;34m[\u001b[0m\u001b[0;36m0\u001b[0m\u001b[0;34m:\u001b[0m\u001b[0;36m5\u001b[0m\u001b[0;34m]\u001b[0m \u001b[0;34m=\u001b[0m \u001b[0;34m'HOLAA'\u001b[0m\u001b[0;34m\u001b[0m\u001b[0;34m\u001b[0m\u001b[0m\n\u001b[0m",
            "\u001b[0;31mTypeError\u001b[0m: 'str' object does not support item assignment"
          ]
        }
      ]
    },
    {
      "cell_type": "code",
      "source": [
        "del str1\n",
        "print(str1)"
      ],
      "metadata": {
        "colab": {
          "base_uri": "https://localhost:8080/",
          "height": 158
        },
        "id": "S2q_GZngXVHp",
        "outputId": "9122ea4c-d913-45be-b499-22d2779a105f"
      },
      "execution_count": null,
      "outputs": [
        {
          "output_type": "error",
          "ename": "NameError",
          "evalue": "name 'str1' is not defined",
          "traceback": [
            "\u001b[0;31m---------------------------------------------------------------------------\u001b[0m",
            "\u001b[0;31mNameError\u001b[0m                                 Traceback (most recent call last)",
            "\u001b[0;32m/tmp/ipython-input-4278673725.py\u001b[0m in \u001b[0;36m<cell line: 0>\u001b[0;34m()\u001b[0m\n\u001b[1;32m      1\u001b[0m \u001b[0;32mdel\u001b[0m \u001b[0mstr1\u001b[0m\u001b[0;34m\u001b[0m\u001b[0;34m\u001b[0m\u001b[0m\n\u001b[0;32m----> 2\u001b[0;31m \u001b[0mprint\u001b[0m\u001b[0;34m(\u001b[0m\u001b[0mstr1\u001b[0m\u001b[0;34m)\u001b[0m\u001b[0;34m\u001b[0m\u001b[0;34m\u001b[0m\u001b[0m\n\u001b[0m",
            "\u001b[0;31mNameError\u001b[0m: name 'str1' is not defined"
          ]
        }
      ]
    },
    {
      "cell_type": "code",
      "source": [
        "s1 =  \"Hello\"\n",
        "s2 = \"Python\"\n",
        "s3 = s1 + s2\n",
        "print(s3)"
      ],
      "metadata": {
        "colab": {
          "base_uri": "https://localhost:8080/"
        },
        "id": "1nv1p9PUXtBW",
        "outputId": "718532f1-9eda-4c3f-cd2b-d8297738a54c"
      },
      "execution_count": null,
      "outputs": [
        {
          "output_type": "stream",
          "name": "stdout",
          "text": [
            "HelloPython\n"
          ]
        }
      ]
    }
  ]
}