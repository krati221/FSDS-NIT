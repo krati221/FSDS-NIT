{
  "nbformat": 4,
  "nbformat_minor": 0,
  "metadata": {
    "colab": {
      "provenance": []
    },
    "kernelspec": {
      "name": "python3",
      "display_name": "Python 3"
    },
    "language_info": {
      "name": "python"
    }
  },
  "cells": [
    {
      "cell_type": "code",
      "execution_count": 1,
      "metadata": {
        "id": "-bUim5rZWkyj"
      },
      "outputs": [],
      "source": [
        "import numpy as np"
      ]
    },
    {
      "cell_type": "code",
      "source": [
        "np.__version__"
      ],
      "metadata": {
        "colab": {
          "base_uri": "https://localhost:8080/",
          "height": 36
        },
        "id": "M791YHK_XErC",
        "outputId": "4f2550f3-8635-4ece-ac5f-d6a7679f64d4"
      },
      "execution_count": 2,
      "outputs": [
        {
          "output_type": "execute_result",
          "data": {
            "text/plain": [
              "'2.0.2'"
            ],
            "application/vnd.google.colaboratory.intrinsic+json": {
              "type": "string"
            }
          },
          "metadata": {},
          "execution_count": 2
        }
      ]
    },
    {
      "cell_type": "code",
      "source": [
        "my_list=[1,2,3,4,5,6]\n",
        "my_list"
      ],
      "metadata": {
        "colab": {
          "base_uri": "https://localhost:8080/"
        },
        "id": "35yr6bOpXE1S",
        "outputId": "e8a87631-2598-4832-fb40-c2b24b444a6c"
      },
      "execution_count": 3,
      "outputs": [
        {
          "output_type": "execute_result",
          "data": {
            "text/plain": [
              "[1, 2, 3, 4, 5, 6]"
            ]
          },
          "metadata": {},
          "execution_count": 3
        }
      ]
    },
    {
      "cell_type": "code",
      "source": [
        "type(my_list)"
      ],
      "metadata": {
        "colab": {
          "base_uri": "https://localhost:8080/"
        },
        "id": "WzVIuYbDXE23",
        "outputId": "f408881c-ff7e-4922-c17c-3ce09c67db6d"
      },
      "execution_count": 4,
      "outputs": [
        {
          "output_type": "execute_result",
          "data": {
            "text/plain": [
              "list"
            ]
          },
          "metadata": {},
          "execution_count": 4
        }
      ]
    },
    {
      "cell_type": "code",
      "source": [
        "my_list"
      ],
      "metadata": {
        "colab": {
          "base_uri": "https://localhost:8080/"
        },
        "id": "574y6fBUXE51",
        "outputId": "fffd6e40-50cf-4b09-c4ef-b5b75be08542"
      },
      "execution_count": 5,
      "outputs": [
        {
          "output_type": "execute_result",
          "data": {
            "text/plain": [
              "[1, 2, 3, 4, 5, 6]"
            ]
          },
          "metadata": {},
          "execution_count": 5
        }
      ]
    },
    {
      "cell_type": "code",
      "source": [
        "arr1 = np.array(my_list)\n",
        "arr1"
      ],
      "metadata": {
        "colab": {
          "base_uri": "https://localhost:8080/"
        },
        "id": "bTJv4091XE8V",
        "outputId": "755a783b-00ec-4cf5-89f9-51986f19b7be"
      },
      "execution_count": 6,
      "outputs": [
        {
          "output_type": "execute_result",
          "data": {
            "text/plain": [
              "array([1, 2, 3, 4, 5, 6])"
            ]
          },
          "metadata": {},
          "execution_count": 6
        }
      ]
    },
    {
      "cell_type": "code",
      "source": [
        "type(arr1)"
      ],
      "metadata": {
        "colab": {
          "base_uri": "https://localhost:8080/"
        },
        "id": "GCt4IFiRXE-k",
        "outputId": "be7b49a6-141e-4550-cec2-31638da27c87"
      },
      "execution_count": 7,
      "outputs": [
        {
          "output_type": "execute_result",
          "data": {
            "text/plain": [
              "numpy.ndarray"
            ]
          },
          "metadata": {},
          "execution_count": 7
        }
      ]
    },
    {
      "cell_type": "markdown",
      "source": [
        "#Arange"
      ],
      "metadata": {
        "id": "n7NgG0cjYSqm"
      }
    },
    {
      "cell_type": "code",
      "source": [
        "np.arange(10) #its indexing start from 0"
      ],
      "metadata": {
        "colab": {
          "base_uri": "https://localhost:8080/"
        },
        "id": "tigIo7ZLXFA1",
        "outputId": "b661be20-6402-4be8-cf6f-3cafb6efdf40"
      },
      "execution_count": 8,
      "outputs": [
        {
          "output_type": "execute_result",
          "data": {
            "text/plain": [
              "array([0, 1, 2, 3, 4, 5, 6, 7, 8, 9])"
            ]
          },
          "metadata": {},
          "execution_count": 8
        }
      ]
    },
    {
      "cell_type": "code",
      "source": [
        "np.arange(12,25)"
      ],
      "metadata": {
        "colab": {
          "base_uri": "https://localhost:8080/"
        },
        "id": "2PWzfHs5XFEy",
        "outputId": "1f3e5ed4-8a96-47aa-ccd0-ee0507f232e6"
      },
      "execution_count": 9,
      "outputs": [
        {
          "output_type": "execute_result",
          "data": {
            "text/plain": [
              "array([12, 13, 14, 15, 16, 17, 18, 19, 20, 21, 22, 23, 24])"
            ]
          },
          "metadata": {},
          "execution_count": 9
        }
      ]
    },
    {
      "cell_type": "code",
      "source": [
        "np.arange(5,51,5)"
      ],
      "metadata": {
        "colab": {
          "base_uri": "https://localhost:8080/"
        },
        "id": "mvUg28TlXFGt",
        "outputId": "3055ac5b-2bdd-405a-dd40-684e8f2a3ac2"
      },
      "execution_count": 10,
      "outputs": [
        {
          "output_type": "execute_result",
          "data": {
            "text/plain": [
              "array([ 5, 10, 15, 20, 25, 30, 35, 40, 45, 50])"
            ]
          },
          "metadata": {},
          "execution_count": 10
        }
      ]
    },
    {
      "cell_type": "code",
      "source": [
        "np.arange(20,10) #1st argument less than 2nd argument"
      ],
      "metadata": {
        "colab": {
          "base_uri": "https://localhost:8080/"
        },
        "id": "IjHS5ylnXFKO",
        "outputId": "857997af-8741-4c52-e960-16170bdfab22"
      },
      "execution_count": 11,
      "outputs": [
        {
          "output_type": "execute_result",
          "data": {
            "text/plain": [
              "array([], dtype=int64)"
            ]
          },
          "metadata": {},
          "execution_count": 11
        }
      ]
    },
    {
      "cell_type": "code",
      "source": [
        "np.arange(-20,10)"
      ],
      "metadata": {
        "colab": {
          "base_uri": "https://localhost:8080/"
        },
        "id": "C9WbefkuXFMa",
        "outputId": "be9c33f1-d437-4ac1-be5a-50d442b97f7e"
      },
      "execution_count": 12,
      "outputs": [
        {
          "output_type": "execute_result",
          "data": {
            "text/plain": [
              "array([-20, -19, -18, -17, -16, -15, -14, -13, -12, -11, -10,  -9,  -8,\n",
              "        -7,  -6,  -5,  -4,  -3,  -2,  -1,   0,   1,   2,   3,   4,   5,\n",
              "         6,   7,   8,   9])"
            ]
          },
          "metadata": {},
          "execution_count": 12
        }
      ]
    },
    {
      "cell_type": "markdown",
      "source": [
        "#Zeros"
      ],
      "metadata": {
        "id": "Oh0NCfV7YVQS"
      }
    },
    {
      "cell_type": "code",
      "source": [
        "np.zeros(5) #parameter tunning"
      ],
      "metadata": {
        "colab": {
          "base_uri": "https://localhost:8080/"
        },
        "id": "w87FOWElXFPc",
        "outputId": "91d2008e-4a4b-46fb-e84a-07cc730789ea"
      },
      "execution_count": 13,
      "outputs": [
        {
          "output_type": "execute_result",
          "data": {
            "text/plain": [
              "array([0., 0., 0., 0., 0.])"
            ]
          },
          "metadata": {},
          "execution_count": 13
        }
      ]
    },
    {
      "cell_type": "code",
      "source": [
        "np.zeros(5,dtype=int) #hyperparameter tunning"
      ],
      "metadata": {
        "colab": {
          "base_uri": "https://localhost:8080/"
        },
        "id": "6JO6q4baXFSd",
        "outputId": "b6333dfd-fe49-4efe-a790-ed5d12a01b9a"
      },
      "execution_count": 14,
      "outputs": [
        {
          "output_type": "execute_result",
          "data": {
            "text/plain": [
              "array([0, 0, 0, 0, 0])"
            ]
          },
          "metadata": {},
          "execution_count": 14
        }
      ]
    },
    {
      "cell_type": "code",
      "source": [
        "np.zeros([2,2],dtype=int) #(Row,Coloumn)"
      ],
      "metadata": {
        "colab": {
          "base_uri": "https://localhost:8080/"
        },
        "id": "L3y1AfgdYs6p",
        "outputId": "d044308b-3c72-49d3-84bf-579b38937670"
      },
      "execution_count": 16,
      "outputs": [
        {
          "output_type": "execute_result",
          "data": {
            "text/plain": [
              "array([[0, 0],\n",
              "       [0, 0]])"
            ]
          },
          "metadata": {},
          "execution_count": 16
        }
      ]
    },
    {
      "cell_type": "code",
      "source": [
        "np.zeros([5,4]) # 5R, 4C"
      ],
      "metadata": {
        "colab": {
          "base_uri": "https://localhost:8080/"
        },
        "id": "_MIz6fmmY5K_",
        "outputId": "74aca78d-f246-4c08-d1e7-ce3b57fd2338"
      },
      "execution_count": 17,
      "outputs": [
        {
          "output_type": "execute_result",
          "data": {
            "text/plain": [
              "array([[0., 0., 0., 0.],\n",
              "       [0., 0., 0., 0.],\n",
              "       [0., 0., 0., 0.],\n",
              "       [0., 0., 0., 0.],\n",
              "       [0., 0., 0., 0.]])"
            ]
          },
          "metadata": {},
          "execution_count": 17
        }
      ]
    },
    {
      "cell_type": "code",
      "source": [
        "np.zeros((10,10),dtype = int)"
      ],
      "metadata": {
        "colab": {
          "base_uri": "https://localhost:8080/"
        },
        "id": "S8KTQPcOZA0h",
        "outputId": "9ae75a94-628f-42ca-aecb-cf1b3aba0eef"
      },
      "execution_count": 18,
      "outputs": [
        {
          "output_type": "execute_result",
          "data": {
            "text/plain": [
              "array([[0, 0, 0, 0, 0, 0, 0, 0, 0, 0],\n",
              "       [0, 0, 0, 0, 0, 0, 0, 0, 0, 0],\n",
              "       [0, 0, 0, 0, 0, 0, 0, 0, 0, 0],\n",
              "       [0, 0, 0, 0, 0, 0, 0, 0, 0, 0],\n",
              "       [0, 0, 0, 0, 0, 0, 0, 0, 0, 0],\n",
              "       [0, 0, 0, 0, 0, 0, 0, 0, 0, 0],\n",
              "       [0, 0, 0, 0, 0, 0, 0, 0, 0, 0],\n",
              "       [0, 0, 0, 0, 0, 0, 0, 0, 0, 0],\n",
              "       [0, 0, 0, 0, 0, 0, 0, 0, 0, 0],\n",
              "       [0, 0, 0, 0, 0, 0, 0, 0, 0, 0]])"
            ]
          },
          "metadata": {},
          "execution_count": 18
        }
      ]
    },
    {
      "cell_type": "markdown",
      "source": [
        "#np ones"
      ],
      "metadata": {
        "id": "prTbAI3AZ7I7"
      }
    },
    {
      "cell_type": "code",
      "source": [
        "np.ones(2)"
      ],
      "metadata": {
        "colab": {
          "base_uri": "https://localhost:8080/"
        },
        "id": "XK0T2E1hZKG8",
        "outputId": "8d6a4629-36ef-44b5-decb-4c6755702e35"
      },
      "execution_count": 19,
      "outputs": [
        {
          "output_type": "execute_result",
          "data": {
            "text/plain": [
              "array([1., 1.])"
            ]
          },
          "metadata": {},
          "execution_count": 19
        }
      ]
    },
    {
      "cell_type": "code",
      "source": [
        "np.ones(3,dtype=int)"
      ],
      "metadata": {
        "colab": {
          "base_uri": "https://localhost:8080/"
        },
        "id": "F0uW7VtCZMVB",
        "outputId": "3be04c45-2788-4e25-99e9-27fde5a21d6a"
      },
      "execution_count": 20,
      "outputs": [
        {
          "output_type": "execute_result",
          "data": {
            "text/plain": [
              "array([1, 1, 1])"
            ]
          },
          "metadata": {},
          "execution_count": 20
        }
      ]
    },
    {
      "cell_type": "code",
      "source": [
        "np.ones([2,2])"
      ],
      "metadata": {
        "colab": {
          "base_uri": "https://localhost:8080/"
        },
        "id": "rUR0JNxPZR5C",
        "outputId": "b4aea740-48b5-469c-f1b5-3da5436268eb"
      },
      "execution_count": 21,
      "outputs": [
        {
          "output_type": "execute_result",
          "data": {
            "text/plain": [
              "array([[1., 1.],\n",
              "       [1., 1.]])"
            ]
          },
          "metadata": {},
          "execution_count": 21
        }
      ]
    },
    {
      "cell_type": "code",
      "source": [
        "np.ones([4,5])"
      ],
      "metadata": {
        "colab": {
          "base_uri": "https://localhost:8080/"
        },
        "id": "ynvJZ55eZwFq",
        "outputId": "0206967d-135f-4141-efbc-2337be67f6da"
      },
      "execution_count": 22,
      "outputs": [
        {
          "output_type": "execute_result",
          "data": {
            "text/plain": [
              "array([[1., 1., 1., 1., 1.],\n",
              "       [1., 1., 1., 1., 1.],\n",
              "       [1., 1., 1., 1., 1.],\n",
              "       [1., 1., 1., 1., 1.]])"
            ]
          },
          "metadata": {},
          "execution_count": 22
        }
      ]
    },
    {
      "cell_type": "markdown",
      "source": [
        "#Random (rand)"
      ],
      "metadata": {
        "id": "ZSDr3rb9aADE"
      }
    },
    {
      "cell_type": "code",
      "source": [
        "arr1"
      ],
      "metadata": {
        "colab": {
          "base_uri": "https://localhost:8080/"
        },
        "id": "pU_UwTYQZ21B",
        "outputId": "25bc1564-b028-4a40-9de9-d9b73518038d"
      },
      "execution_count": 23,
      "outputs": [
        {
          "output_type": "execute_result",
          "data": {
            "text/plain": [
              "array([1, 2, 3, 4, 5, 6])"
            ]
          },
          "metadata": {},
          "execution_count": 23
        }
      ]
    },
    {
      "cell_type": "code",
      "source": [
        "rand(3,2)"
      ],
      "metadata": {
        "colab": {
          "base_uri": "https://localhost:8080/",
          "height": 141
        },
        "id": "X9yyxQaXaIbZ",
        "outputId": "b7f7ba2d-00aa-46b4-b81a-1fc04a84f169"
      },
      "execution_count": 24,
      "outputs": [
        {
          "output_type": "error",
          "ename": "NameError",
          "evalue": "name 'rand' is not defined",
          "traceback": [
            "\u001b[0;31m---------------------------------------------------------------------------\u001b[0m",
            "\u001b[0;31mNameError\u001b[0m                                 Traceback (most recent call last)",
            "\u001b[0;32m/tmp/ipython-input-2635806565.py\u001b[0m in \u001b[0;36m<cell line: 0>\u001b[0;34m()\u001b[0m\n\u001b[0;32m----> 1\u001b[0;31m \u001b[0mrand\u001b[0m\u001b[0;34m(\u001b[0m\u001b[0;36m3\u001b[0m\u001b[0;34m,\u001b[0m\u001b[0;36m2\u001b[0m\u001b[0;34m)\u001b[0m\u001b[0;34m\u001b[0m\u001b[0;34m\u001b[0m\u001b[0m\n\u001b[0m",
            "\u001b[0;31mNameError\u001b[0m: name 'rand' is not defined"
          ]
        }
      ]
    },
    {
      "cell_type": "code",
      "source": [
        "random.rand(3,2)"
      ],
      "metadata": {
        "colab": {
          "base_uri": "https://localhost:8080/",
          "height": 141
        },
        "id": "7tFpg8p-aIX2",
        "outputId": "7281b59b-2614-4d59-a7c2-a378718c8c59"
      },
      "execution_count": 25,
      "outputs": [
        {
          "output_type": "error",
          "ename": "NameError",
          "evalue": "name 'random' is not defined",
          "traceback": [
            "\u001b[0;31m---------------------------------------------------------------------------\u001b[0m",
            "\u001b[0;31mNameError\u001b[0m                                 Traceback (most recent call last)",
            "\u001b[0;32m/tmp/ipython-input-1069567642.py\u001b[0m in \u001b[0;36m<cell line: 0>\u001b[0;34m()\u001b[0m\n\u001b[0;32m----> 1\u001b[0;31m \u001b[0mrandom\u001b[0m\u001b[0;34m.\u001b[0m\u001b[0mrand\u001b[0m\u001b[0;34m(\u001b[0m\u001b[0;36m3\u001b[0m\u001b[0;34m,\u001b[0m\u001b[0;36m2\u001b[0m\u001b[0;34m)\u001b[0m\u001b[0;34m\u001b[0m\u001b[0;34m\u001b[0m\u001b[0m\n\u001b[0m",
            "\u001b[0;31mNameError\u001b[0m: name 'random' is not defined"
          ]
        }
      ]
    },
    {
      "cell_type": "code",
      "source": [
        "np.random.rand(3,2)"
      ],
      "metadata": {
        "colab": {
          "base_uri": "https://localhost:8080/"
        },
        "id": "ta5JOwDxaIVs",
        "outputId": "8f9a6c66-fd53-40a2-d1b9-d5dbf81765dc"
      },
      "execution_count": 29,
      "outputs": [
        {
          "output_type": "execute_result",
          "data": {
            "text/plain": [
              "array([[0.78694407, 0.58824122],\n",
              "       [0.41013641, 0.53894571],\n",
              "       [0.33181719, 0.8944317 ]])"
            ]
          },
          "metadata": {},
          "execution_count": 29
        }
      ]
    },
    {
      "cell_type": "code",
      "source": [
        "np.random.rand(5)"
      ],
      "metadata": {
        "colab": {
          "base_uri": "https://localhost:8080/"
        },
        "id": "za59C6JJaISN",
        "outputId": "f2f6369f-d205-4687-98be-f239d50f409a"
      },
      "execution_count": 32,
      "outputs": [
        {
          "output_type": "execute_result",
          "data": {
            "text/plain": [
              "array([0.83899331, 0.7029478 , 0.82257241, 0.66266534, 0.05984147])"
            ]
          },
          "metadata": {},
          "execution_count": 32
        }
      ]
    },
    {
      "cell_type": "code",
      "source": [
        "np.random.randint(3)"
      ],
      "metadata": {
        "colab": {
          "base_uri": "https://localhost:8080/"
        },
        "id": "4NC7FmGiaIQH",
        "outputId": "2f847206-bcba-404b-a590-e87e91d64037"
      },
      "execution_count": 38,
      "outputs": [
        {
          "output_type": "execute_result",
          "data": {
            "text/plain": [
              "1"
            ]
          },
          "metadata": {},
          "execution_count": 38
        }
      ]
    },
    {
      "cell_type": "code",
      "source": [
        "np.random.randint(0,10)"
      ],
      "metadata": {
        "colab": {
          "base_uri": "https://localhost:8080/"
        },
        "id": "TrOboWRVaH1f",
        "outputId": "ff7bc5a2-6123-413d-811d-7342ffb99b77"
      },
      "execution_count": 42,
      "outputs": [
        {
          "output_type": "execute_result",
          "data": {
            "text/plain": [
              "3"
            ]
          },
          "metadata": {},
          "execution_count": 42
        }
      ]
    },
    {
      "cell_type": "code",
      "source": [
        "np.random.randint(5,50,5)"
      ],
      "metadata": {
        "colab": {
          "base_uri": "https://localhost:8080/"
        },
        "id": "zdbFO9NAar6P",
        "outputId": "163b2f12-abb8-40b0-8873-76f2742b78ad"
      },
      "execution_count": 43,
      "outputs": [
        {
          "output_type": "execute_result",
          "data": {
            "text/plain": [
              "array([11, 17, 22, 10, 42])"
            ]
          },
          "metadata": {},
          "execution_count": 43
        }
      ]
    },
    {
      "cell_type": "code",
      "source": [
        "np.random.randint(0,10,4)"
      ],
      "metadata": {
        "colab": {
          "base_uri": "https://localhost:8080/"
        },
        "id": "zEiRVzKLa8TR",
        "outputId": "d3222ae0-d745-4081-b84d-f44e74629648"
      },
      "execution_count": 44,
      "outputs": [
        {
          "output_type": "execute_result",
          "data": {
            "text/plain": [
              "array([3, 8, 9, 0])"
            ]
          },
          "metadata": {},
          "execution_count": 44
        }
      ]
    },
    {
      "cell_type": "code",
      "source": [
        "n = np.random.randint(10,40,(8,10)) # 8R 10C and numbers between 10 to 40"
      ],
      "metadata": {
        "id": "RRS0CoBMbB0Z"
      },
      "execution_count": 46,
      "outputs": []
    },
    {
      "cell_type": "code",
      "source": [
        "n"
      ],
      "metadata": {
        "colab": {
          "base_uri": "https://localhost:8080/"
        },
        "id": "-bFg-YIebUiu",
        "outputId": "5c3af4dc-e91a-4930-95dd-18d56dbdac51"
      },
      "execution_count": 48,
      "outputs": [
        {
          "output_type": "execute_result",
          "data": {
            "text/plain": [
              "array([[11, 28, 15, 23, 17, 14, 27, 26, 12, 19],\n",
              "       [28, 25, 29, 14, 22, 23, 10, 31, 32, 38],\n",
              "       [24, 29, 21, 18, 13, 31, 25, 20, 28, 10],\n",
              "       [36, 30, 30, 12, 28, 37, 28, 36, 30, 10],\n",
              "       [24, 35, 33, 18, 24, 16, 18, 18, 13, 34],\n",
              "       [36, 27, 21, 15, 11, 12, 15, 18, 26, 33],\n",
              "       [39, 18, 21, 20, 12, 16, 12, 38, 10, 12],\n",
              "       [24, 35, 34, 32, 32, 32, 37, 10, 34, 34]])"
            ]
          },
          "metadata": {},
          "execution_count": 48
        }
      ]
    },
    {
      "cell_type": "code",
      "source": [
        "n[5]"
      ],
      "metadata": {
        "colab": {
          "base_uri": "https://localhost:8080/"
        },
        "id": "k1x3w2GdbdS6",
        "outputId": "b68a47c5-5321-42ca-ea8f-20a2603d6e71"
      },
      "execution_count": 49,
      "outputs": [
        {
          "output_type": "execute_result",
          "data": {
            "text/plain": [
              "array([36, 27, 21, 15, 11, 12, 15, 18, 26, 33])"
            ]
          },
          "metadata": {},
          "execution_count": 49
        }
      ]
    },
    {
      "cell_type": "code",
      "source": [
        "n[0:6]"
      ],
      "metadata": {
        "colab": {
          "base_uri": "https://localhost:8080/"
        },
        "id": "sNpTDhiObf-k",
        "outputId": "93c37881-9f52-40cd-9e0b-033d875d7a69"
      },
      "execution_count": 112,
      "outputs": [
        {
          "output_type": "execute_result",
          "data": {
            "text/plain": [
              "array([[35, 30, 30, 36, 36, 35, 35, 38],\n",
              "       [33, 33, 34, 37, 34, 36, 38, 33],\n",
              "       [37, 31, 37, 32, 34, 31, 31, 31],\n",
              "       [34, 35, 34, 38, 32, 31, 39, 36],\n",
              "       [32, 38, 38, 35, 37, 30, 35, 37],\n",
              "       [36, 34, 33, 39, 30, 39, 30, 33]])"
            ]
          },
          "metadata": {},
          "execution_count": 112
        }
      ]
    },
    {
      "cell_type": "code",
      "source": [
        "n"
      ],
      "metadata": {
        "colab": {
          "base_uri": "https://localhost:8080/"
        },
        "id": "Bqvq4dgmbj-K",
        "outputId": "350e56c5-d879-47df-9d5a-af21a06f8de7"
      },
      "execution_count": 52,
      "outputs": [
        {
          "output_type": "execute_result",
          "data": {
            "text/plain": [
              "array([[11, 28, 15, 23, 17, 14, 27, 26, 12, 19],\n",
              "       [28, 25, 29, 14, 22, 23, 10, 31, 32, 38],\n",
              "       [24, 29, 21, 18, 13, 31, 25, 20, 28, 10],\n",
              "       [36, 30, 30, 12, 28, 37, 28, 36, 30, 10],\n",
              "       [24, 35, 33, 18, 24, 16, 18, 18, 13, 34],\n",
              "       [36, 27, 21, 15, 11, 12, 15, 18, 26, 33],\n",
              "       [39, 18, 21, 20, 12, 16, 12, 38, 10, 12],\n",
              "       [24, 35, 34, 32, 32, 32, 37, 10, 34, 34]])"
            ]
          },
          "metadata": {},
          "execution_count": 52
        }
      ]
    },
    {
      "cell_type": "code",
      "source": [
        "n[::-1]"
      ],
      "metadata": {
        "colab": {
          "base_uri": "https://localhost:8080/"
        },
        "id": "i0kIDaT5bsmo",
        "outputId": "402c6ddd-2fc6-4574-db91-1fe28d88b0bb"
      },
      "execution_count": 53,
      "outputs": [
        {
          "output_type": "execute_result",
          "data": {
            "text/plain": [
              "array([[24, 35, 34, 32, 32, 32, 37, 10, 34, 34],\n",
              "       [39, 18, 21, 20, 12, 16, 12, 38, 10, 12],\n",
              "       [36, 27, 21, 15, 11, 12, 15, 18, 26, 33],\n",
              "       [24, 35, 33, 18, 24, 16, 18, 18, 13, 34],\n",
              "       [36, 30, 30, 12, 28, 37, 28, 36, 30, 10],\n",
              "       [24, 29, 21, 18, 13, 31, 25, 20, 28, 10],\n",
              "       [28, 25, 29, 14, 22, 23, 10, 31, 32, 38],\n",
              "       [11, 28, 15, 23, 17, 14, 27, 26, 12, 19]])"
            ]
          },
          "metadata": {},
          "execution_count": 53
        }
      ]
    },
    {
      "cell_type": "code",
      "source": [
        "n"
      ],
      "metadata": {
        "colab": {
          "base_uri": "https://localhost:8080/"
        },
        "id": "LnQSkTIebu6l",
        "outputId": "0a12fbcc-632f-4476-a089-32ee4f8a4e89"
      },
      "execution_count": 54,
      "outputs": [
        {
          "output_type": "execute_result",
          "data": {
            "text/plain": [
              "array([[11, 28, 15, 23, 17, 14, 27, 26, 12, 19],\n",
              "       [28, 25, 29, 14, 22, 23, 10, 31, 32, 38],\n",
              "       [24, 29, 21, 18, 13, 31, 25, 20, 28, 10],\n",
              "       [36, 30, 30, 12, 28, 37, 28, 36, 30, 10],\n",
              "       [24, 35, 33, 18, 24, 16, 18, 18, 13, 34],\n",
              "       [36, 27, 21, 15, 11, 12, 15, 18, 26, 33],\n",
              "       [39, 18, 21, 20, 12, 16, 12, 38, 10, 12],\n",
              "       [24, 35, 34, 32, 32, 32, 37, 10, 34, 34]])"
            ]
          },
          "metadata": {},
          "execution_count": 54
        }
      ]
    },
    {
      "cell_type": "code",
      "source": [
        "n[::2] #11 24 24 39"
      ],
      "metadata": {
        "colab": {
          "base_uri": "https://localhost:8080/"
        },
        "id": "ywr-xvnib7Fm",
        "outputId": "d4f52096-b6d3-41a2-e4a9-a92257698125"
      },
      "execution_count": 55,
      "outputs": [
        {
          "output_type": "execute_result",
          "data": {
            "text/plain": [
              "array([[11, 28, 15, 23, 17, 14, 27, 26, 12, 19],\n",
              "       [24, 29, 21, 18, 13, 31, 25, 20, 28, 10],\n",
              "       [24, 35, 33, 18, 24, 16, 18, 18, 13, 34],\n",
              "       [39, 18, 21, 20, 12, 16, 12, 38, 10, 12]])"
            ]
          },
          "metadata": {},
          "execution_count": 55
        }
      ]
    },
    {
      "cell_type": "code",
      "source": [
        "n"
      ],
      "metadata": {
        "colab": {
          "base_uri": "https://localhost:8080/"
        },
        "id": "0WUI_djScOmH",
        "outputId": "7b2430d7-a7c2-4ce0-d2fe-1f25d4a43d2f"
      },
      "execution_count": 56,
      "outputs": [
        {
          "output_type": "execute_result",
          "data": {
            "text/plain": [
              "array([[11, 28, 15, 23, 17, 14, 27, 26, 12, 19],\n",
              "       [28, 25, 29, 14, 22, 23, 10, 31, 32, 38],\n",
              "       [24, 29, 21, 18, 13, 31, 25, 20, 28, 10],\n",
              "       [36, 30, 30, 12, 28, 37, 28, 36, 30, 10],\n",
              "       [24, 35, 33, 18, 24, 16, 18, 18, 13, 34],\n",
              "       [36, 27, 21, 15, 11, 12, 15, 18, 26, 33],\n",
              "       [39, 18, 21, 20, 12, 16, 12, 38, 10, 12],\n",
              "       [24, 35, 34, 32, 32, 32, 37, 10, 34, 34]])"
            ]
          },
          "metadata": {},
          "execution_count": 56
        }
      ]
    },
    {
      "cell_type": "code",
      "source": [
        "n[::3] # 11 36 39"
      ],
      "metadata": {
        "colab": {
          "base_uri": "https://localhost:8080/"
        },
        "id": "VRUvL15vcRPL",
        "outputId": "c0db8e11-edf3-4bb0-9c85-57834fea221a"
      },
      "execution_count": 57,
      "outputs": [
        {
          "output_type": "execute_result",
          "data": {
            "text/plain": [
              "array([[11, 28, 15, 23, 17, 14, 27, 26, 12, 19],\n",
              "       [36, 30, 30, 12, 28, 37, 28, 36, 30, 10],\n",
              "       [39, 18, 21, 20, 12, 16, 12, 38, 10, 12]])"
            ]
          },
          "metadata": {},
          "execution_count": 57
        }
      ]
    },
    {
      "cell_type": "code",
      "source": [
        "n"
      ],
      "metadata": {
        "colab": {
          "base_uri": "https://localhost:8080/"
        },
        "id": "36DKVg2tccr4",
        "outputId": "75b3afa9-cd50-4c2a-fa53-77663b65cf38"
      },
      "execution_count": 58,
      "outputs": [
        {
          "output_type": "execute_result",
          "data": {
            "text/plain": [
              "array([[11, 28, 15, 23, 17, 14, 27, 26, 12, 19],\n",
              "       [28, 25, 29, 14, 22, 23, 10, 31, 32, 38],\n",
              "       [24, 29, 21, 18, 13, 31, 25, 20, 28, 10],\n",
              "       [36, 30, 30, 12, 28, 37, 28, 36, 30, 10],\n",
              "       [24, 35, 33, 18, 24, 16, 18, 18, 13, 34],\n",
              "       [36, 27, 21, 15, 11, 12, 15, 18, 26, 33],\n",
              "       [39, 18, 21, 20, 12, 16, 12, 38, 10, 12],\n",
              "       [24, 35, 34, 32, 32, 32, 37, 10, 34, 34]])"
            ]
          },
          "metadata": {},
          "execution_count": 58
        }
      ]
    },
    {
      "cell_type": "code",
      "source": [
        "n[::4] #11 24"
      ],
      "metadata": {
        "colab": {
          "base_uri": "https://localhost:8080/"
        },
        "id": "hl2Hwhoecffk",
        "outputId": "1f17c3c0-fef1-4148-eeb7-ed6d808137db"
      },
      "execution_count": 59,
      "outputs": [
        {
          "output_type": "execute_result",
          "data": {
            "text/plain": [
              "array([[11, 28, 15, 23, 17, 14, 27, 26, 12, 19],\n",
              "       [24, 35, 33, 18, 24, 16, 18, 18, 13, 34]])"
            ]
          },
          "metadata": {},
          "execution_count": 59
        }
      ]
    },
    {
      "cell_type": "code",
      "source": [
        "n"
      ],
      "metadata": {
        "colab": {
          "base_uri": "https://localhost:8080/"
        },
        "id": "gj41itLocnij",
        "outputId": "facd5021-d3db-4db5-da5b-d964c50bff43"
      },
      "execution_count": 60,
      "outputs": [
        {
          "output_type": "execute_result",
          "data": {
            "text/plain": [
              "array([[11, 28, 15, 23, 17, 14, 27, 26, 12, 19],\n",
              "       [28, 25, 29, 14, 22, 23, 10, 31, 32, 38],\n",
              "       [24, 29, 21, 18, 13, 31, 25, 20, 28, 10],\n",
              "       [36, 30, 30, 12, 28, 37, 28, 36, 30, 10],\n",
              "       [24, 35, 33, 18, 24, 16, 18, 18, 13, 34],\n",
              "       [36, 27, 21, 15, 11, 12, 15, 18, 26, 33],\n",
              "       [39, 18, 21, 20, 12, 16, 12, 38, 10, 12],\n",
              "       [24, 35, 34, 32, 32, 32, 37, 10, 34, 34]])"
            ]
          },
          "metadata": {},
          "execution_count": 60
        }
      ]
    },
    {
      "cell_type": "code",
      "source": [
        "n[::5] # 11 36"
      ],
      "metadata": {
        "colab": {
          "base_uri": "https://localhost:8080/"
        },
        "id": "LtfK0k_kcpRW",
        "outputId": "da718720-c300-4581-c85a-540de9496e9e"
      },
      "execution_count": 61,
      "outputs": [
        {
          "output_type": "execute_result",
          "data": {
            "text/plain": [
              "array([[11, 28, 15, 23, 17, 14, 27, 26, 12, 19],\n",
              "       [36, 27, 21, 15, 11, 12, 15, 18, 26, 33]])"
            ]
          },
          "metadata": {},
          "execution_count": 61
        }
      ]
    },
    {
      "cell_type": "code",
      "source": [
        "n"
      ],
      "metadata": {
        "colab": {
          "base_uri": "https://localhost:8080/"
        },
        "id": "iE-Xj4i1cvRV",
        "outputId": "bfee7045-e276-45ea-a888-6f7f3745b531"
      },
      "execution_count": 62,
      "outputs": [
        {
          "output_type": "execute_result",
          "data": {
            "text/plain": [
              "array([[11, 28, 15, 23, 17, 14, 27, 26, 12, 19],\n",
              "       [28, 25, 29, 14, 22, 23, 10, 31, 32, 38],\n",
              "       [24, 29, 21, 18, 13, 31, 25, 20, 28, 10],\n",
              "       [36, 30, 30, 12, 28, 37, 28, 36, 30, 10],\n",
              "       [24, 35, 33, 18, 24, 16, 18, 18, 13, 34],\n",
              "       [36, 27, 21, 15, 11, 12, 15, 18, 26, 33],\n",
              "       [39, 18, 21, 20, 12, 16, 12, 38, 10, 12],\n",
              "       [24, 35, 34, 32, 32, 32, 37, 10, 34, 34]])"
            ]
          },
          "metadata": {},
          "execution_count": 62
        }
      ]
    },
    {
      "cell_type": "code",
      "source": [
        "n[::2] # 11 24 24 39"
      ],
      "metadata": {
        "colab": {
          "base_uri": "https://localhost:8080/"
        },
        "id": "xWdiHm3hcwfL",
        "outputId": "79e2bb9a-84fa-4438-fe23-4ecdfbcd3435"
      },
      "execution_count": 63,
      "outputs": [
        {
          "output_type": "execute_result",
          "data": {
            "text/plain": [
              "array([[11, 28, 15, 23, 17, 14, 27, 26, 12, 19],\n",
              "       [24, 29, 21, 18, 13, 31, 25, 20, 28, 10],\n",
              "       [24, 35, 33, 18, 24, 16, 18, 18, 13, 34],\n",
              "       [39, 18, 21, 20, 12, 16, 12, 38, 10, 12]])"
            ]
          },
          "metadata": {},
          "execution_count": 63
        }
      ]
    },
    {
      "cell_type": "code",
      "source": [
        "n[0]"
      ],
      "metadata": {
        "colab": {
          "base_uri": "https://localhost:8080/"
        },
        "id": "rT2eHhebc5EI",
        "outputId": "b2d23e55-eff4-4f52-adf0-70e52985f9a0"
      },
      "execution_count": 64,
      "outputs": [
        {
          "output_type": "execute_result",
          "data": {
            "text/plain": [
              "array([11, 28, 15, 23, 17, 14, 27, 26, 12, 19])"
            ]
          },
          "metadata": {},
          "execution_count": 64
        }
      ]
    },
    {
      "cell_type": "code",
      "source": [
        "n[0:5]"
      ],
      "metadata": {
        "colab": {
          "base_uri": "https://localhost:8080/"
        },
        "id": "0LZeKIJXc9ta",
        "outputId": "57759bec-9125-4284-d83c-47a6cb77c6b2"
      },
      "execution_count": 65,
      "outputs": [
        {
          "output_type": "execute_result",
          "data": {
            "text/plain": [
              "array([[11, 28, 15, 23, 17, 14, 27, 26, 12, 19],\n",
              "       [28, 25, 29, 14, 22, 23, 10, 31, 32, 38],\n",
              "       [24, 29, 21, 18, 13, 31, 25, 20, 28, 10],\n",
              "       [36, 30, 30, 12, 28, 37, 28, 36, 30, 10],\n",
              "       [24, 35, 33, 18, 24, 16, 18, 18, 13, 34]])"
            ]
          },
          "metadata": {},
          "execution_count": 65
        }
      ]
    },
    {
      "cell_type": "code",
      "source": [
        "nn=n[0,5]"
      ],
      "metadata": {
        "id": "VAJvQq60dBgl"
      },
      "execution_count": 67,
      "outputs": []
    },
    {
      "cell_type": "code",
      "source": [
        "np.random.randint(3,20,(1,9))"
      ],
      "metadata": {
        "colab": {
          "base_uri": "https://localhost:8080/"
        },
        "id": "dew0_iMZdG0E",
        "outputId": "339ddac3-12a8-4aeb-8d1b-cccb3c997afd"
      },
      "execution_count": 81,
      "outputs": [
        {
          "output_type": "execute_result",
          "data": {
            "text/plain": [
              "array([[ 4,  5,  3,  3,  6,  4,  6,  6, 15]])"
            ]
          },
          "metadata": {},
          "execution_count": 81
        }
      ]
    },
    {
      "cell_type": "code",
      "source": [
        "np.random.rand(3,2)"
      ],
      "metadata": {
        "colab": {
          "base_uri": "https://localhost:8080/"
        },
        "id": "zBVrhGU_fbjR",
        "outputId": "402c133d-baa2-4c0f-f41c-194d934e691d"
      },
      "execution_count": 73,
      "outputs": [
        {
          "output_type": "execute_result",
          "data": {
            "text/plain": [
              "array([[0.61744858, 0.18993546],\n",
              "       [0.94997334, 0.76233434],\n",
              "       [0.25901505, 0.05245157]])"
            ]
          },
          "metadata": {},
          "execution_count": 73
        }
      ]
    },
    {
      "cell_type": "code",
      "source": [
        "np.random.randint(0,10,4)"
      ],
      "metadata": {
        "colab": {
          "base_uri": "https://localhost:8080/"
        },
        "id": "oPDCpUdbg_Dh",
        "outputId": "b26ca52b-4229-40f7-8901-786281b03dd9"
      },
      "execution_count": 82,
      "outputs": [
        {
          "output_type": "execute_result",
          "data": {
            "text/plain": [
              "array([6, 9, 5, 3])"
            ]
          },
          "metadata": {},
          "execution_count": 82
        }
      ]
    },
    {
      "cell_type": "code",
      "source": [
        "np.random.randint(5,10,2)"
      ],
      "metadata": {
        "colab": {
          "base_uri": "https://localhost:8080/"
        },
        "id": "T5y_JleGtkgE",
        "outputId": "ce209eb4-8906-4585-ab3b-5fcbf3f674ba"
      },
      "execution_count": 83,
      "outputs": [
        {
          "output_type": "execute_result",
          "data": {
            "text/plain": [
              "array([8, 6])"
            ]
          },
          "metadata": {},
          "execution_count": 83
        }
      ]
    },
    {
      "cell_type": "code",
      "source": [
        "n1 = np.random.randint(10,40,(10,8))"
      ],
      "metadata": {
        "id": "5oJjkAUQtwIC"
      },
      "execution_count": 89,
      "outputs": []
    },
    {
      "cell_type": "code",
      "source": [
        "n1"
      ],
      "metadata": {
        "colab": {
          "base_uri": "https://localhost:8080/"
        },
        "id": "j36LDzxnuWa_",
        "outputId": "20931e8f-c1f3-4acd-94aa-7b719e8aabdf"
      },
      "execution_count": 92,
      "outputs": [
        {
          "output_type": "execute_result",
          "data": {
            "text/plain": [
              "array([[24, 39, 33, 20, 27, 21, 28, 13],\n",
              "       [22, 38, 38, 36, 16, 26, 29, 22],\n",
              "       [10, 23, 28, 20, 12, 11, 33, 12],\n",
              "       [19, 24, 29, 12, 10, 27, 32, 18],\n",
              "       [19, 15, 16, 23, 13, 22, 28, 37],\n",
              "       [34, 11, 39, 20, 31, 21, 36, 25],\n",
              "       [19, 34, 20, 20, 33, 37, 17, 18],\n",
              "       [38, 19, 15, 17, 16, 15, 13, 13],\n",
              "       [34, 33, 37, 23, 25, 19, 28, 29],\n",
              "       [33, 37, 29, 24, 23, 26, 39, 25]])"
            ]
          },
          "metadata": {},
          "execution_count": 92
        }
      ]
    },
    {
      "cell_type": "code",
      "source": [
        "print(int(n1[0,5])) #0th row 5th coloumn"
      ],
      "metadata": {
        "colab": {
          "base_uri": "https://localhost:8080/"
        },
        "id": "_00Xq3O1ugNi",
        "outputId": "3e537ace-4128-491e-c91e-f1adab8a179a"
      },
      "execution_count": 101,
      "outputs": [
        {
          "output_type": "stream",
          "name": "stdout",
          "text": [
            "21\n"
          ]
        }
      ]
    },
    {
      "cell_type": "code",
      "source": [
        "int(n1[5,-3])\n"
      ],
      "metadata": {
        "colab": {
          "base_uri": "https://localhost:8080/"
        },
        "id": "jxdzHlCU2Yjz",
        "outputId": "64628dba-fccd-428f-fe37-fe7a66fea25e"
      },
      "execution_count": 102,
      "outputs": [
        {
          "output_type": "execute_result",
          "data": {
            "text/plain": [
              "21"
            ]
          },
          "metadata": {},
          "execution_count": 102
        }
      ]
    },
    {
      "cell_type": "code",
      "source": [
        "n = np.random.randint(30,40,(10,8))"
      ],
      "metadata": {
        "id": "XrlKgnZJ2YRw"
      },
      "execution_count": 107,
      "outputs": []
    },
    {
      "cell_type": "code",
      "source": [
        "n"
      ],
      "metadata": {
        "colab": {
          "base_uri": "https://localhost:8080/"
        },
        "id": "eb-nUm9s7dwX",
        "outputId": "9d034aa1-3014-4eea-cff6-c715423f1e2b"
      },
      "execution_count": 108,
      "outputs": [
        {
          "output_type": "execute_result",
          "data": {
            "text/plain": [
              "array([[35, 30, 30, 36, 36, 35, 35, 38],\n",
              "       [33, 33, 34, 37, 34, 36, 38, 33],\n",
              "       [37, 31, 37, 32, 34, 31, 31, 31],\n",
              "       [34, 35, 34, 38, 32, 31, 39, 36],\n",
              "       [32, 38, 38, 35, 37, 30, 35, 37],\n",
              "       [36, 34, 33, 39, 30, 39, 30, 33],\n",
              "       [30, 32, 33, 33, 37, 32, 39, 39],\n",
              "       [33, 37, 39, 35, 34, 39, 35, 39],\n",
              "       [32, 36, 35, 30, 39, 39, 37, 34],\n",
              "       [35, 31, 32, 31, 39, 33, 38, 34]])"
            ]
          },
          "metadata": {},
          "execution_count": 108
        }
      ]
    },
    {
      "cell_type": "code",
      "source": [
        "int(n[5,3]) #Specific positions"
      ],
      "metadata": {
        "colab": {
          "base_uri": "https://localhost:8080/"
        },
        "id": "XZPRYDZg7pRL",
        "outputId": "b57cbf17-6e96-413a-c372-b39a17c67c5b"
      },
      "execution_count": 109,
      "outputs": [
        {
          "output_type": "execute_result",
          "data": {
            "text/plain": [
              "30"
            ]
          },
          "metadata": {},
          "execution_count": 109
        }
      ]
    },
    {
      "cell_type": "code",
      "source": [
        "n[5:] #called record only"
      ],
      "metadata": {
        "colab": {
          "base_uri": "https://localhost:8080/"
        },
        "id": "U6Q8FL9o76Vu",
        "outputId": "c163ecd3-72ce-4250-9ff6-c2945f9a3ea0"
      },
      "execution_count": 116,
      "outputs": [
        {
          "output_type": "execute_result",
          "data": {
            "text/plain": [
              "array([[36, 34, 33, 39, 30, 39, 30, 33],\n",
              "       [30, 32, 33, 33, 37, 32, 39, 39],\n",
              "       [33, 37, 39, 35, 34, 39, 35, 39],\n",
              "       [32, 36, 35, 30, 39, 39, 37, 34],\n",
              "       [35, 31, 32, 31, 39, 33, 38, 34]])"
            ]
          },
          "metadata": {},
          "execution_count": 116
        }
      ]
    },
    {
      "cell_type": "markdown",
      "source": [
        "#Arange Reshape"
      ],
      "metadata": {
        "id": "aHj7EiQB831s"
      }
    },
    {
      "cell_type": "code",
      "source": [
        "np.arange(1,13).reshape(6,2)"
      ],
      "metadata": {
        "colab": {
          "base_uri": "https://localhost:8080/"
        },
        "id": "-nm3xx_p8XDY",
        "outputId": "aadbbde2-c4c9-471e-d748-c254020c935b"
      },
      "execution_count": 128,
      "outputs": [
        {
          "output_type": "execute_result",
          "data": {
            "text/plain": [
              "array([[ 1,  2],\n",
              "       [ 3,  4],\n",
              "       [ 5,  6],\n",
              "       [ 7,  8],\n",
              "       [ 9, 10],\n",
              "       [11, 12]])"
            ]
          },
          "metadata": {},
          "execution_count": 128
        }
      ]
    },
    {
      "cell_type": "code",
      "source": [
        "np.arange(2,8).reshape(3,2)"
      ],
      "metadata": {
        "colab": {
          "base_uri": "https://localhost:8080/"
        },
        "id": "Js0cyTSQ83TC",
        "outputId": "46af31f6-e2b4-4d8b-c758-fac071900cfa"
      },
      "execution_count": 133,
      "outputs": [
        {
          "output_type": "execute_result",
          "data": {
            "text/plain": [
              "array([[2, 3],\n",
              "       [4, 5],\n",
              "       [6, 7]])"
            ]
          },
          "metadata": {},
          "execution_count": 133
        }
      ]
    },
    {
      "cell_type": "code",
      "source": [
        "np.arange(0,12).reshape(4,3)"
      ],
      "metadata": {
        "colab": {
          "base_uri": "https://localhost:8080/"
        },
        "id": "zTxmy6Tl83QN",
        "outputId": "1ae40a9b-2393-40fa-c46b-1dc8d2bccdf2"
      },
      "execution_count": 149,
      "outputs": [
        {
          "output_type": "execute_result",
          "data": {
            "text/plain": [
              "array([[ 0,  1,  2],\n",
              "       [ 3,  4,  5],\n",
              "       [ 6,  7,  8],\n",
              "       [ 9, 10, 11]])"
            ]
          },
          "metadata": {},
          "execution_count": 149
        }
      ]
    }
  ]
}
