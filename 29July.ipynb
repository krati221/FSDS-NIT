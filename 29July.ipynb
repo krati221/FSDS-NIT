{
  "nbformat": 4,
  "nbformat_minor": 0,
  "metadata": {
    "colab": {
      "provenance": []
    },
    "kernelspec": {
      "name": "python3",
      "display_name": "Python 3"
    },
    "language_info": {
      "name": "python"
    }
  },
  "cells": [
    {
      "cell_type": "code",
      "execution_count": 2,
      "metadata": {
        "colab": {
          "base_uri": "https://localhost:8080/"
        },
        "id": "Rngc5Znz9vbK",
        "outputId": "937898f6-81ac-4fd8-ef9b-63f4991da807"
      },
      "outputs": [
        {
          "output_type": "stream",
          "name": "stdout",
          "text": [
            "4.0\n",
            "3.0\n"
          ]
        }
      ],
      "source": [
        "#Creating Complex\n",
        "z = 3 + 4j\n",
        "print(z.imag)\n",
        "print(z.real)"
      ]
    },
    {
      "cell_type": "code",
      "source": [
        "a = 3 + 4j\n",
        "b = 1 + 2j\n",
        "\n",
        "print(a + b)\n",
        "print(a - b )\n",
        "print(a * b)\n",
        "print(a / b)"
      ],
      "metadata": {
        "colab": {
          "base_uri": "https://localhost:8080/"
        },
        "id": "18t25m5c-Z7A",
        "outputId": "27352d9b-ed68-4bbc-cee6-93575149c7af"
      },
      "execution_count": 4,
      "outputs": [
        {
          "output_type": "stream",
          "name": "stdout",
          "text": [
            "(4+6j)\n",
            "(2+2j)\n",
            "(-5+10j)\n",
            "(2.2-0.4j)\n"
          ]
        }
      ]
    },
    {
      "cell_type": "code",
      "source": [
        "z = 3 + 4j\n",
        "print(abs(z))\n",
        "#print(z.conj())"
      ],
      "metadata": {
        "colab": {
          "base_uri": "https://localhost:8080/"
        },
        "id": "Ma0Bu-Qp-9Tv",
        "outputId": "c246c1df-883a-4169-e21c-85bc327441bf"
      },
      "execution_count": 6,
      "outputs": [
        {
          "output_type": "stream",
          "name": "stdout",
          "text": [
            "5.0\n"
          ]
        }
      ]
    },
    {
      "cell_type": "code",
      "source": [
        "import cmath\n",
        "z = 1 + 1j\n",
        "print(cmath.phase(z))\n",
        "print(cmath.polar(z))\n",
        "print(cmath.sqrt(z))"
      ],
      "metadata": {
        "colab": {
          "base_uri": "https://localhost:8080/"
        },
        "id": "kc9NWpPl_OYw",
        "outputId": "376ee8df-f383-4185-9d28-24d82bc3a662"
      },
      "execution_count": 7,
      "outputs": [
        {
          "output_type": "stream",
          "name": "stdout",
          "text": [
            "0.7853981633974483\n",
            "(1.4142135623730951, 0.7853981633974483)\n",
            "(1.09868411346781+0.45508986056222733j)\n"
          ]
        }
      ]
    },
    {
      "cell_type": "code",
      "source": [
        "a = 10\n",
        "b = 20\n",
        "a\n",
        "b"
      ],
      "metadata": {
        "colab": {
          "base_uri": "https://localhost:8080/"
        },
        "id": "nXm4u4dS_2m2",
        "outputId": "55504c53-b71b-4dec-836a-7b5ed22b50f1"
      },
      "execution_count": 8,
      "outputs": [
        {
          "output_type": "execute_result",
          "data": {
            "text/plain": [
              "20"
            ]
          },
          "metadata": {},
          "execution_count": 8
        }
      ]
    },
    {
      "cell_type": "code",
      "source": [
        "a = 10\n",
        "b = 20\n",
        "print(a)\n",
        "print(b)"
      ],
      "metadata": {
        "colab": {
          "base_uri": "https://localhost:8080/"
        },
        "id": "wWKSHW16_566",
        "outputId": "35221dd6-9fac-4b37-faa3-2d30aeb1d7bc"
      },
      "execution_count": 9,
      "outputs": [
        {
          "output_type": "stream",
          "name": "stdout",
          "text": [
            "10\n",
            "20\n"
          ]
        }
      ]
    },
    {
      "cell_type": "code",
      "source": [
        "print(10)\n",
        "print(10,20)\n",
        "print('python')\n",
        "print(10,20,'python')"
      ],
      "metadata": {
        "colab": {
          "base_uri": "https://localhost:8080/"
        },
        "id": "e6Z1wdAr_-PZ",
        "outputId": "19ae9a79-2301-4277-db84-da43c1f00080"
      },
      "execution_count": 11,
      "outputs": [
        {
          "output_type": "stream",
          "name": "stdout",
          "text": [
            "10\n",
            "10 20\n",
            "python\n",
            "10 20 python\n"
          ]
        }
      ]
    },
    {
      "cell_type": "code",
      "source": [
        "num1 = 20\n",
        "num2 = 30\n",
        "add = num1+num2\n",
        "print(add)"
      ],
      "metadata": {
        "colab": {
          "base_uri": "https://localhost:8080/"
        },
        "id": "xCtCey6uAL9K",
        "outputId": "9c20c891-b95e-4550-e8b3-b322006f555c"
      },
      "execution_count": 12,
      "outputs": [
        {
          "output_type": "stream",
          "name": "stdout",
          "text": [
            "50\n"
          ]
        }
      ]
    },
    {
      "cell_type": "code",
      "source": [
        "#Print result with string\n",
        "num1 = 20\n",
        "num2 = 30\n",
        "add = num1 + num2\n",
        "print('the addition of',num1,'and',num2,'is',add)"
      ],
      "metadata": {
        "colab": {
          "base_uri": "https://localhost:8080/"
        },
        "id": "VxOugXFFATk2",
        "outputId": "94d0ee99-ffb4-4049-8a4d-244230ce836c"
      },
      "execution_count": 13,
      "outputs": [
        {
          "output_type": "stream",
          "name": "stdout",
          "text": [
            "the addition of 20 and 30 is 50\n"
          ]
        }
      ]
    },
    {
      "cell_type": "code",
      "source": [
        "name = 'Python'\n",
        "age = 20\n",
        "city = 'Bengaluru'\n",
        "print('Hello my name is',name,'and i am',age,'year old from',city)"
      ],
      "metadata": {
        "colab": {
          "base_uri": "https://localhost:8080/"
        },
        "id": "voMVcprdAk9F",
        "outputId": "05da49e1-5828-46b2-e7a2-3fa03aaba232"
      },
      "execution_count": 15,
      "outputs": [
        {
          "output_type": "stream",
          "name": "stdout",
          "text": [
            "Hello my name is Python and i am 20 year old from Bengaluru\n"
          ]
        }
      ]
    },
    {
      "cell_type": "code",
      "source": [
        "num1 = 20\n",
        "num2 = 30\n",
        "add = num1 + num2\n",
        "print('The addition of {} and {} is {}'.format(num1,num2,add))"
      ],
      "metadata": {
        "colab": {
          "base_uri": "https://localhost:8080/"
        },
        "id": "qD0Rje8BA8mK",
        "outputId": "873bfa70-234a-41e4-8aff-ac9d4e9d4037"
      },
      "execution_count": 16,
      "outputs": [
        {
          "output_type": "stream",
          "name": "stdout",
          "text": [
            "The addition of 20 and 30 is 50\n"
          ]
        }
      ]
    },
    {
      "cell_type": "code",
      "source": [
        "name = 'Krati'\n",
        "age = 20\n",
        "city = 'Bengaluru'\n",
        "print(\"My name is {} my age is {} and i am from {}\".format(name,age,city))"
      ],
      "metadata": {
        "colab": {
          "base_uri": "https://localhost:8080/"
        },
        "id": "7t1dZ6HdBLYo",
        "outputId": "81b7ff22-ff2e-4a41-e8af-7541e5189db8"
      },
      "execution_count": 19,
      "outputs": [
        {
          "output_type": "stream",
          "name": "stdout",
          "text": [
            "My name is Krati my age is 20 and i am from Bengaluru\n"
          ]
        }
      ]
    },
    {
      "cell_type": "code",
      "source": [
        "num1 = 100\n",
        "num2 = 25\n",
        "num3 = 333\n",
        "avg=(num1+num2+num3)/3\n",
        "avg1 = round((num1+num2+num3)/3,2)\n",
        "print('The average of {} , {} and {} is {} or {}'.format(num1,num2,num3,avg,avg1))"
      ],
      "metadata": {
        "colab": {
          "base_uri": "https://localhost:8080/"
        },
        "id": "mp4VkesZBeyt",
        "outputId": "6a065acd-c152-4cec-fe5c-38df39fe02ef"
      },
      "execution_count": 20,
      "outputs": [
        {
          "output_type": "stream",
          "name": "stdout",
          "text": [
            "The average of 100 , 25 and 333 is 152.66666666666666 or 152.67\n"
          ]
        }
      ]
    },
    {
      "cell_type": "code",
      "source": [
        "round (avg,2)"
      ],
      "metadata": {
        "colab": {
          "base_uri": "https://localhost:8080/"
        },
        "id": "1hjgGXcNCXIZ",
        "outputId": "80249878-9cd8-45ec-a868-dc661ae8267c"
      },
      "execution_count": 21,
      "outputs": [
        {
          "output_type": "execute_result",
          "data": {
            "text/plain": [
              "152.67"
            ]
          },
          "metadata": {},
          "execution_count": 21
        }
      ]
    },
    {
      "cell_type": "code",
      "source": [
        "num1 = 20\n",
        "num2 = 30\n",
        "add = num1 + num2\n",
        "print(f'the addition of {num1} and {num2} is = {add}')"
      ],
      "metadata": {
        "colab": {
          "base_uri": "https://localhost:8080/"
        },
        "id": "NzVsbxcwCeJr",
        "outputId": "c203cc69-d5ae-434a-8eca-827c2f4cf13c"
      },
      "execution_count": 22,
      "outputs": [
        {
          "output_type": "stream",
          "name": "stdout",
          "text": [
            "the addition of 20 and 30 is = 50\n"
          ]
        }
      ]
    },
    {
      "cell_type": "code",
      "source": [
        "name = 'Krati'\n",
        "age = 20\n",
        "city = 'Bengaluru'\n",
        "print(f'My name is {name} my age is {age} i am from {city}')"
      ],
      "metadata": {
        "colab": {
          "base_uri": "https://localhost:8080/"
        },
        "id": "bAqnxj1hCtAM",
        "outputId": "d63b3ce9-01ae-4c7b-9c3b-8f06ad490135"
      },
      "execution_count": 23,
      "outputs": [
        {
          "output_type": "stream",
          "name": "stdout",
          "text": [
            "My name is Krati my age is 20 i am from Bengaluru\n"
          ]
        }
      ]
    },
    {
      "cell_type": "code",
      "source": [
        "num1 = 100\n",
        "num2 = 25\n",
        "num3 = 333\n",
        "avg=round((num1+num2+num3)/3,2)\n",
        "print(f'The value is {num1} , {num2} and {num3} and the average of these value is {avg}')"
      ],
      "metadata": {
        "colab": {
          "base_uri": "https://localhost:8080/"
        },
        "id": "vviHEm6RC7Ye",
        "outputId": "fe234643-d079-430e-a4ba-080a121b4995"
      },
      "execution_count": 25,
      "outputs": [
        {
          "output_type": "stream",
          "name": "stdout",
          "text": [
            "The value is 100 , 25 and 333 and the average of these value is 152.67\n"
          ]
        }
      ]
    },
    {
      "cell_type": "code",
      "source": [
        "num1 = 10\n",
        "num2 = 20\n",
        "add = num1 + num2\n",
        "print('the addition of {} and {} is {}'.format(num1,num2,add))\n",
        "print(f'The addition of {num1} and {num2} is : {add}')\n",
        "print('the addition of',num1, 'and' , num2 ,'is',add)"
      ],
      "metadata": {
        "colab": {
          "base_uri": "https://localhost:8080/"
        },
        "id": "DfAew-grDVYh",
        "outputId": "6d5f85f7-c29d-41e0-8ba3-532a340c8345"
      },
      "execution_count": 27,
      "outputs": [
        {
          "output_type": "stream",
          "name": "stdout",
          "text": [
            "the addition of 10 and 20 is 30\n",
            "The addition of 10 and 20 is : 30\n",
            "the addition of 10 and 20 is 30\n"
          ]
        }
      ]
    },
    {
      "cell_type": "code",
      "source": [
        "#END Statement\n",
        "print('Hello')\n",
        "print('Good Night')"
      ],
      "metadata": {
        "colab": {
          "base_uri": "https://localhost:8080/"
        },
        "id": "5uqUPITLD3EF",
        "outputId": "7eb2d1d3-4807-4537-a003-399c4a8e9134"
      },
      "execution_count": 28,
      "outputs": [
        {
          "output_type": "stream",
          "name": "stdout",
          "text": [
            "Hello\n",
            "Good Night\n"
          ]
        }
      ]
    },
    {
      "cell_type": "code",
      "source": [
        "print('Hello', end=' ')\n",
        "print('Good Night!')"
      ],
      "metadata": {
        "colab": {
          "base_uri": "https://localhost:8080/"
        },
        "id": "v4ywyZqVD_H5",
        "outputId": "e6b57aea-1b4e-43ca-8ff1-5eb44fba666e"
      },
      "execution_count": 29,
      "outputs": [
        {
          "output_type": "stream",
          "name": "stdout",
          "text": [
            "Hello Good Night!\n"
          ]
        }
      ]
    },
    {
      "cell_type": "code",
      "source": [
        "#Seprator\n",
        "print('hello','my','name','is','neru',sep=' @@@ ')\n",
        "print('Hello','I Love Mandarian Language',sep=\" && \")\n",
        "print(3,'.')\n",
        "print(1,2,end=\" \")\n",
        "print(3,'.',sep=' ')"
      ],
      "metadata": {
        "colab": {
          "base_uri": "https://localhost:8080/"
        },
        "id": "b9mo9me7EKx8",
        "outputId": "61468290-4a4f-436c-882a-cd95e1a7058e"
      },
      "execution_count": 35,
      "outputs": [
        {
          "output_type": "stream",
          "name": "stdout",
          "text": [
            "hello @@@ my @@@ name @@@ is @@@ neru\n",
            "Hello && I Love Mandarian Language\n",
            "3 .\n",
            "1 2 3 .\n"
          ]
        }
      ]
    },
    {
      "cell_type": "code",
      "source": [
        "#Strings\n",
        "letter = 'p'\n",
        "print(letter)\n",
        "print(len(letter))"
      ],
      "metadata": {
        "colab": {
          "base_uri": "https://localhost:8080/"
        },
        "id": "vd6OJf8GGQxV",
        "outputId": "078f8215-e4e5-47bd-a96d-84c479d996a3"
      },
      "execution_count": 36,
      "outputs": [
        {
          "output_type": "stream",
          "name": "stdout",
          "text": [
            "p\n",
            "1\n"
          ]
        }
      ]
    },
    {
      "cell_type": "code",
      "source": [
        "greeting = \"hello world\"\n",
        "print(greeting)\n",
        "print(len(greeting))"
      ],
      "metadata": {
        "colab": {
          "base_uri": "https://localhost:8080/"
        },
        "id": "bBpQPtFNGXzQ",
        "outputId": "ad7f3970-6ca3-4b23-bfbf-5ddaa89ba3b4"
      },
      "execution_count": 37,
      "outputs": [
        {
          "output_type": "stream",
          "name": "stdout",
          "text": [
            "hello world\n",
            "11\n"
          ]
        }
      ]
    },
    {
      "cell_type": "code",
      "source": [
        "sentence = \"I hope you are enjoying\"\n",
        "print(sentence)\n",
        "print(len(sentence))"
      ],
      "metadata": {
        "colab": {
          "base_uri": "https://localhost:8080/"
        },
        "id": "n2_ThpCcGfgw",
        "outputId": "6fa26c4f-4dd0-424c-bdcb-0330bb84c027"
      },
      "execution_count": 38,
      "outputs": [
        {
          "output_type": "stream",
          "name": "stdout",
          "text": [
            "I hope you are enjoying\n",
            "23\n"
          ]
        }
      ]
    },
    {
      "cell_type": "code",
      "source": [
        "#Multiline strings\n",
        "multiline_string = '''I am student and learning is my work , i always learn new things\n",
        "which help me to keep motivated and clam my overthinkings '''\n",
        "print(multiline_string)"
      ],
      "metadata": {
        "colab": {
          "base_uri": "https://localhost:8080/"
        },
        "id": "avtZrmKAGoPQ",
        "outputId": "5aa09aa2-fbec-49ef-8440-85a32778a29b"
      },
      "execution_count": 39,
      "outputs": [
        {
          "output_type": "stream",
          "name": "stdout",
          "text": [
            "I am student and learning is my work , i always learn new things\n",
            "which help me to keep motivated and clam my overthinkings \n"
          ]
        }
      ]
    },
    {
      "cell_type": "code",
      "source": [
        "multi_line = \"\"\"I am student and learning is my work,\n",
        " i always learn new things whic help me to keep\n",
        "  motivated and clam my overthinkings\"\"\"\n",
        "print(multi_line)"
      ],
      "metadata": {
        "colab": {
          "base_uri": "https://localhost:8080/"
        },
        "id": "M5oQOaOhHBAX",
        "outputId": "5863b2aa-26ba-483f-d855-9ec6ea74f9e9"
      },
      "execution_count": 41,
      "outputs": [
        {
          "output_type": "stream",
          "name": "stdout",
          "text": [
            "I am student and learning is my work,\n",
            " i always learn new things whic help me to keep\n",
            "  motivated and clam my overthinkings\n"
          ]
        }
      ]
    },
    {
      "cell_type": "code",
      "source": [
        "#String Concatination\n",
        "first_name = 'Krati'\n",
        "last_name = 'Shrivastav'\n",
        "space = ' '\n",
        "full_name = first_name + space + last_name\n",
        "print(full_name)\n",
        "print(len(first_name))\n",
        "print(len(last_name))\n",
        "print(len(full_name))"
      ],
      "metadata": {
        "colab": {
          "base_uri": "https://localhost:8080/"
        },
        "id": "jzKSZrx9HVag",
        "outputId": "04cf1135-f7d2-4396-f504-354ee8bf8f58"
      },
      "execution_count": 43,
      "outputs": [
        {
          "output_type": "stream",
          "name": "stdout",
          "text": [
            "Krati Shrivastav\n",
            "5\n",
            "10\n",
            "16\n"
          ]
        }
      ]
    },
    {
      "cell_type": "code",
      "source": [
        "#unpacing charachters\n",
        "language = 'Python'\n",
        "a,b,c,d,e,f=language\n",
        "print(a)\n",
        "print(b)\n",
        "print(c)\n",
        "print(d)\n",
        "print(e)\n",
        "print(f)"
      ],
      "metadata": {
        "colab": {
          "base_uri": "https://localhost:8080/"
        },
        "id": "ZMpwAiDFHoMe",
        "outputId": "07adc569-349c-4452-bb1a-ca19be52396b"
      },
      "execution_count": 46,
      "outputs": [
        {
          "output_type": "stream",
          "name": "stdout",
          "text": [
            "P\n",
            "y\n",
            "t\n",
            "h\n",
            "o\n",
            "n\n"
          ]
        }
      ]
    },
    {
      "cell_type": "code",
      "source": [
        "#Accessing charachters in strings by index\n",
        "language =\"python\"\n",
        "first_letter=language[0]\n",
        "second_letter = language[1]\n",
        "last_index = len(language)-1\n",
        "last_letter = language[last_index]\n",
        "print(first_letter)\n",
        "print(second_letter)\n",
        "print(last_letter)"
      ],
      "metadata": {
        "colab": {
          "base_uri": "https://localhost:8080/"
        },
        "id": "Y69lXu6TIHVY",
        "outputId": "b2ecaf03-7d21-4d72-c58d-97f1fc45905e"
      },
      "execution_count": 48,
      "outputs": [
        {
          "output_type": "stream",
          "name": "stdout",
          "text": [
            "p\n",
            "y\n",
            "n\n"
          ]
        }
      ]
    },
    {
      "cell_type": "code",
      "source": [
        "#Slicing\n",
        "language = \"Python\"\n",
        "first_three = language[0:3]\n",
        "print(first_three)"
      ],
      "metadata": {
        "colab": {
          "base_uri": "https://localhost:8080/"
        },
        "id": "mtNjcPeTIvbi",
        "outputId": "ec028eda-e18f-4694-ac1f-34df26b3ac9c"
      },
      "execution_count": 51,
      "outputs": [
        {
          "output_type": "stream",
          "name": "stdout",
          "text": [
            "Pyt\n"
          ]
        }
      ]
    },
    {
      "cell_type": "code",
      "source": [
        "last_three = language[-3:]\n",
        "print(last_three)\n"
      ],
      "metadata": {
        "colab": {
          "base_uri": "https://localhost:8080/"
        },
        "id": "7NKTXz0gJBY4",
        "outputId": "f75731bf-d5a2-4f64-8d2b-b714a462ebee"
      },
      "execution_count": 52,
      "outputs": [
        {
          "output_type": "stream",
          "name": "stdout",
          "text": [
            "hon\n"
          ]
        }
      ]
    },
    {
      "cell_type": "code",
      "source": [
        "last_three = language[3:]\n",
        "pto = language[0:6:2]\n",
        "print(pto)"
      ],
      "metadata": {
        "colab": {
          "base_uri": "https://localhost:8080/"
        },
        "id": "En5ccXaGJVBH",
        "outputId": "d21fc849-5585-46c1-a9e2-540cb435cddf"
      },
      "execution_count": 56,
      "outputs": [
        {
          "output_type": "stream",
          "name": "stdout",
          "text": [
            "Pto\n"
          ]
        }
      ]
    },
    {
      "cell_type": "code",
      "source": [
        "#Escape Sequence\n",
        "print('I hope everyone enjoying python challenge . \\nDO you?') #Next line\n",
        "print('Days\\tTopics\\tExcercise')#Tab\n",
        "print('Day1\\t3\\t5')\n",
        "print('Day2\\t4\\t5')\n",
        "print('Day3\\t5\\t6')\n",
        "print('This is black slash symbol(\\\\)') #To write back slash\n",
        "print('In every programming language it starts with \\\"Hello,World\\\"')"
      ],
      "metadata": {
        "colab": {
          "base_uri": "https://localhost:8080/"
        },
        "id": "XgT0xFo_JopA",
        "outputId": "cf3a32a7-3f67-4f70-d66e-a20729caab42"
      },
      "execution_count": 63,
      "outputs": [
        {
          "output_type": "stream",
          "name": "stdout",
          "text": [
            "I hope everyone enjoying python challenge . \n",
            "DO you?\n",
            "Days\tTopics\tExcercise\n",
            "Day1\t3\t5\n",
            "Day2\t4\t5\n",
            "Day3\t5\t6\n",
            "This is black slash symbol(\\)\n",
            "In every programming language it starts with \"Hello,World\"\n"
          ]
        }
      ]
    },
    {
      "cell_type": "code",
      "source": [
        "#String Method\n",
        "challenge = 'Thirty days of python'\n",
        "print(challenge.capitalize())"
      ],
      "metadata": {
        "colab": {
          "base_uri": "https://localhost:8080/"
        },
        "id": "5B6SlNZlKqvR",
        "outputId": "a6b20574-cd4f-4934-d37e-615dfd09b058"
      },
      "execution_count": 65,
      "outputs": [
        {
          "output_type": "stream",
          "name": "stdout",
          "text": [
            "Thirty days of python\n"
          ]
        }
      ]
    },
    {
      "cell_type": "code",
      "source": [
        "challenge = 'thirty days of python'\n",
        "print(challenge.count('y'))\n",
        "print(challenge.count('y',7,14))\n",
        "print(challenge.count('th'))"
      ],
      "metadata": {
        "colab": {
          "base_uri": "https://localhost:8080/"
        },
        "id": "reEO2aVlK2Y4",
        "outputId": "21ab460a-80cd-4958-9a76-93feab36a6b8"
      },
      "execution_count": 70,
      "outputs": [
        {
          "output_type": "stream",
          "name": "stdout",
          "text": [
            "3\n",
            "1\n",
            "2\n"
          ]
        }
      ]
    },
    {
      "cell_type": "code",
      "source": [
        "challenge = 'thirty days of python'\n",
        "print(challenge.endswith('on'))\n",
        "print(challenge.endswith('tion'))"
      ],
      "metadata": {
        "colab": {
          "base_uri": "https://localhost:8080/"
        },
        "id": "lVSgagY-LOzc",
        "outputId": "a1729708-62c6-485c-961c-1f1b8e719cba"
      },
      "execution_count": 71,
      "outputs": [
        {
          "output_type": "stream",
          "name": "stdout",
          "text": [
            "True\n",
            "False\n"
          ]
        }
      ]
    },
    {
      "cell_type": "code",
      "source": [
        "challenge = 'thirt\\tdays\\tof\\python'\n",
        "print(challenge.find('y'))\n",
        "print(challenge.find('th'))"
      ],
      "metadata": {
        "colab": {
          "base_uri": "https://localhost:8080/"
        },
        "id": "6m92ZclKLtBv",
        "outputId": "3f6d5946-f688-458d-8f56-b56e4b625050"
      },
      "execution_count": 72,
      "outputs": [
        {
          "output_type": "stream",
          "name": "stdout",
          "text": [
            "8\n",
            "0\n"
          ]
        }
      ]
    },
    {
      "cell_type": "code",
      "source": [
        "first_name = 'Krati'\n",
        "secodn_name = 'Shrivastav'\n",
        "profession='developer'\n",
        "country = 'FInland'\n",
        "sentence = \"I am {} {} . I am a {} . I Live in{}\".format(first_name,last_name,profession,country)\n",
        "print(sentence)"
      ],
      "metadata": {
        "colab": {
          "base_uri": "https://localhost:8080/"
        },
        "id": "mw7dZMH5L-_K",
        "outputId": "dd89b29d-18fd-4a21-8b5a-3d09c7cd2546"
      },
      "execution_count": 76,
      "outputs": [
        {
          "output_type": "stream",
          "name": "stdout",
          "text": [
            "I am Krati Shrivastav . I am a developer . I Live inFInland\n"
          ]
        }
      ]
    },
    {
      "cell_type": "code",
      "source": [
        "radius = 10\n",
        "pi = 3.14\n",
        "area = pi\n",
        "result='The are of circle with {} is {}'.format(str(radius),str(area))\n",
        "print(result)"
      ],
      "metadata": {
        "colab": {
          "base_uri": "https://localhost:8080/"
        },
        "id": "VeM4hPgAMudc",
        "outputId": "6517dfa9-ff1a-4386-9938-aabb2e728175"
      },
      "execution_count": 78,
      "outputs": [
        {
          "output_type": "stream",
          "name": "stdout",
          "text": [
            "The are of circle with 10 is 3.14\n"
          ]
        }
      ]
    },
    {
      "cell_type": "code",
      "source": [
        "#index\n",
        "challenge ='thirty days of python'\n",
        "print(challenge.find('y'))\n",
        "print(challenge.find('th'))"
      ],
      "metadata": {
        "colab": {
          "base_uri": "https://localhost:8080/"
        },
        "id": "iLx2fSWSNLxq",
        "outputId": "47a84c42-e87a-4385-b714-272801473016"
      },
      "execution_count": 79,
      "outputs": [
        {
          "output_type": "stream",
          "name": "stdout",
          "text": [
            "5\n",
            "0\n"
          ]
        }
      ]
    },
    {
      "cell_type": "code",
      "source": [
        "challenge ='Thirtydayspython'\n",
        "print(challenge.isalnum())"
      ],
      "metadata": {
        "colab": {
          "base_uri": "https://localhost:8080/"
        },
        "id": "yKmlBCh5Ni9p",
        "outputId": "68413fa6-e165-451e-c541-1e804cb8f24e"
      },
      "execution_count": 80,
      "outputs": [
        {
          "output_type": "stream",
          "name": "stdout",
          "text": [
            "True\n"
          ]
        }
      ]
    },
    {
      "cell_type": "code",
      "source": [
        "challenge ='thirty days of python'\n",
        "print(challenge.isalnum())"
      ],
      "metadata": {
        "colab": {
          "base_uri": "https://localhost:8080/"
        },
        "id": "CTV7_9TIN3JR",
        "outputId": "60e2e494-ec74-42d6-d2c0-f539454481fe"
      },
      "execution_count": 82,
      "outputs": [
        {
          "output_type": "stream",
          "name": "stdout",
          "text": [
            "False\n"
          ]
        }
      ]
    },
    {
      "cell_type": "code",
      "source": [
        "challenge = ' thirty days of python 2019'\n",
        "print(challenge.isalnum())"
      ],
      "metadata": {
        "colab": {
          "base_uri": "https://localhost:8080/"
        },
        "id": "PXeOS6kAOBEW",
        "outputId": "a01df64d-f59b-416d-cdc9-a33fb6e785d3"
      },
      "execution_count": 84,
      "outputs": [
        {
          "output_type": "stream",
          "name": "stdout",
          "text": [
            "False\n"
          ]
        }
      ]
    },
    {
      "cell_type": "code",
      "source": [
        "challenge = 'thirty days of python'\n",
        "print(challenge.isalpha())\n",
        "num = '123'\n",
        "print(num.isalpha())"
      ],
      "metadata": {
        "colab": {
          "base_uri": "https://localhost:8080/"
        },
        "id": "rMyPjBVmOKd4",
        "outputId": "453a41ef-781c-4326-c4c3-1de87a912bd2"
      },
      "execution_count": 85,
      "outputs": [
        {
          "output_type": "stream",
          "name": "stdout",
          "text": [
            "False\n",
            "False\n"
          ]
        }
      ]
    },
    {
      "cell_type": "code",
      "source": [
        "#Is decimal\n",
        "num = '2.3'\n",
        "print(num.isdecimal())\n",
        "num1 = '2'\n",
        "print(num1.isdecimal())"
      ],
      "metadata": {
        "colab": {
          "base_uri": "https://localhost:8080/"
        },
        "id": "3TUBz2tMOXBR",
        "outputId": "8649e92c-880e-42fc-e0ce-f89dc1d1abe3"
      },
      "execution_count": 89,
      "outputs": [
        {
          "output_type": "stream",
          "name": "stdout",
          "text": [
            "False\n",
            "True\n"
          ]
        }
      ]
    },
    {
      "cell_type": "code",
      "source": [
        "challenge = 'thirty'\n",
        "print(challenge.isdigit())\n",
        "challenge = '30'\n",
        "print(challenge.isdigit())"
      ],
      "metadata": {
        "colab": {
          "base_uri": "https://localhost:8080/"
        },
        "id": "K_bWoyYXOkAI",
        "outputId": "1d48c381-f1fd-45aa-f56a-3ceab3b368a7"
      },
      "execution_count": 88,
      "outputs": [
        {
          "output_type": "stream",
          "name": "stdout",
          "text": [
            "False\n",
            "True\n"
          ]
        }
      ]
    },
    {
      "cell_type": "code",
      "source": [
        "#isidentifier\n",
        "challenge = '30daysofpython'\n",
        "print(challenge.isidentifier())"
      ],
      "metadata": {
        "colab": {
          "base_uri": "https://localhost:8080/"
        },
        "id": "N-0nc-ccOyfT",
        "outputId": "42a0952b-958d-4e17-dfc2-faa6756df07a"
      },
      "execution_count": 90,
      "outputs": [
        {
          "output_type": "stream",
          "name": "stdout",
          "text": [
            "False\n"
          ]
        }
      ]
    },
    {
      "cell_type": "code",
      "source": [
        "challenge = 'thirty_days_of_python'\n",
        "print(challenge.isidentifier())"
      ],
      "metadata": {
        "colab": {
          "base_uri": "https://localhost:8080/"
        },
        "id": "cjhFViKXPC8f",
        "outputId": "bcffc0e6-0a82-4f00-af39-093e694c5dbb"
      },
      "execution_count": 92,
      "outputs": [
        {
          "output_type": "stream",
          "name": "stdout",
          "text": [
            "True\n"
          ]
        }
      ]
    },
    {
      "cell_type": "code",
      "source": [
        "challenge = 'thirty days of python'\n",
        "print(challenge.islower())\n",
        "challenge='Thirty days of python'\n",
        "print(challenge.islower())\n"
      ],
      "metadata": {
        "colab": {
          "base_uri": "https://localhost:8080/"
        },
        "id": "G08MwuPHPLVZ",
        "outputId": "f4987c0f-6054-4fce-819f-2b99e693ed43"
      },
      "execution_count": 93,
      "outputs": [
        {
          "output_type": "stream",
          "name": "stdout",
          "text": [
            "True\n",
            "False\n"
          ]
        }
      ]
    },
    {
      "cell_type": "code",
      "source": [
        "#ISupper\n",
        "challenge = 'Thirty days Of Python'\n",
        "print(challenge.isupper())\n",
        "challenge = 'THIRTY DAYS OF PYTHON'\n",
        "print(challenge.isupper())"
      ],
      "metadata": {
        "colab": {
          "base_uri": "https://localhost:8080/"
        },
        "id": "CLl69XdAPZ1R",
        "outputId": "95e88c52-c0ad-4d25-edf5-e9bb6eb96b31"
      },
      "execution_count": 95,
      "outputs": [
        {
          "output_type": "stream",
          "name": "stdout",
          "text": [
            "False\n",
            "True\n"
          ]
        }
      ]
    },
    {
      "cell_type": "code",
      "source": [
        "#isnumeric\n",
        "num = '10'\n",
        "print(num.isnumeric())\n",
        "print('ten'.isnumeric())"
      ],
      "metadata": {
        "colab": {
          "base_uri": "https://localhost:8080/"
        },
        "id": "lEo6CEQzPoXX",
        "outputId": "cf53384d-509e-430b-83c2-a6663559caee"
      },
      "execution_count": 96,
      "outputs": [
        {
          "output_type": "stream",
          "name": "stdout",
          "text": [
            "True\n",
            "False\n"
          ]
        }
      ]
    },
    {
      "cell_type": "code",
      "source": [
        "#join()\n",
        "web_tech = [\"HTML\",'CSS','Javascript','React']\n",
        "result ='#, '.join(web_tech)\n",
        "print(result)"
      ],
      "metadata": {
        "colab": {
          "base_uri": "https://localhost:8080/"
        },
        "id": "KWw_vfvHP0dg",
        "outputId": "417ac092-e091-42e8-f08d-a013dd2964a0"
      },
      "execution_count": 97,
      "outputs": [
        {
          "output_type": "stream",
          "name": "stdout",
          "text": [
            "HTML#, CSS#, Javascript#, React\n"
          ]
        }
      ]
    },
    {
      "cell_type": "code",
      "source": [
        "#Strip\n",
        "challenge = ' thirty days of python'\n",
        "print(challenge.strip('y'))"
      ],
      "metadata": {
        "colab": {
          "base_uri": "https://localhost:8080/"
        },
        "id": "LRxde17FQGwt",
        "outputId": "71563cc3-4929-44e3-8e9c-11129114cedc"
      },
      "execution_count": 98,
      "outputs": [
        {
          "output_type": "stream",
          "name": "stdout",
          "text": [
            " thirty days of python\n"
          ]
        }
      ]
    },
    {
      "cell_type": "code",
      "source": [
        "#replace\n",
        "challenge ='thirty days of python'\n",
        "print(challenge.replace('python','coding'))"
      ],
      "metadata": {
        "colab": {
          "base_uri": "https://localhost:8080/"
        },
        "id": "e25RiOEjQSxW",
        "outputId": "f8571d6a-70ce-4ba2-f05b-0c161f02f106"
      },
      "execution_count": 99,
      "outputs": [
        {
          "output_type": "stream",
          "name": "stdout",
          "text": [
            "thirty days of coding\n"
          ]
        }
      ]
    },
    {
      "cell_type": "code",
      "source": [
        "#split\n",
        "challenge = 'thirty days of python'\n",
        "print(challenge.split())"
      ],
      "metadata": {
        "colab": {
          "base_uri": "https://localhost:8080/"
        },
        "id": "ZHtTIgt5QeEy",
        "outputId": "7300ce2a-4add-4285-c2ef-e0fa22d00d87"
      },
      "execution_count": 102,
      "outputs": [
        {
          "output_type": "stream",
          "name": "stdout",
          "text": [
            "['thirty', 'days', 'of', 'python']\n"
          ]
        }
      ]
    },
    {
      "cell_type": "code",
      "source": [
        "#Title\n",
        "challenge = 'thirty days of python'\n",
        "print(challenge.title())"
      ],
      "metadata": {
        "colab": {
          "base_uri": "https://localhost:8080/"
        },
        "id": "CgT0KHcyQo-b",
        "outputId": "95894b21-d0ce-4a62-cb30-9985f001946b"
      },
      "execution_count": 104,
      "outputs": [
        {
          "output_type": "stream",
          "name": "stdout",
          "text": [
            "Thirty Days Of Python\n"
          ]
        }
      ]
    },
    {
      "cell_type": "code",
      "source": [
        "#swapcase\n",
        "challenge = 'thirty days of python'\n",
        "print(challenge.swapcase())\n",
        "challenge = 'Thirty days of python'\n",
        "print(challenge.swapcase())\n"
      ],
      "metadata": {
        "colab": {
          "base_uri": "https://localhost:8080/"
        },
        "id": "hIBM4V4MQ3VE",
        "outputId": "61c9280f-0a4b-4ff2-8f55-96f552c1ac9e"
      },
      "execution_count": 105,
      "outputs": [
        {
          "output_type": "stream",
          "name": "stdout",
          "text": [
            "THIRTY DAYS OF PYTHON\n",
            "tHIRTY DAYS OF PYTHON\n"
          ]
        }
      ]
    },
    {
      "cell_type": "code",
      "source": [
        "#startswith\n",
        "challenge = 'thirty days of python'\n",
        "print(challenge.startswith('thirty'))\n",
        "challenge = '30 days of python'\n",
        "print(challenge.startswith('thirty'))"
      ],
      "metadata": {
        "colab": {
          "base_uri": "https://localhost:8080/"
        },
        "id": "iq3qMDwkRIhg",
        "outputId": "e60fbe63-a70c-4db8-8fd2-3df963f5a581"
      },
      "execution_count": 108,
      "outputs": [
        {
          "output_type": "stream",
          "name": "stdout",
          "text": [
            "True\n",
            "False\n"
          ]
        }
      ]
    }
  ]
}