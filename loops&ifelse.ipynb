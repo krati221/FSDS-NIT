{
  "nbformat": 4,
  "nbformat_minor": 0,
  "metadata": {
    "colab": {
      "provenance": []
    },
    "kernelspec": {
      "name": "python3",
      "display_name": "Python 3"
    },
    "language_info": {
      "name": "python"
    }
  },
  "cells": [
    {
      "cell_type": "code",
      "source": [
        "if True:\n",
        "  print(\"data Science\")"
      ],
      "metadata": {
        "colab": {
          "base_uri": "https://localhost:8080/",
          "height": 0
        },
        "id": "6Gk3mbI08c3c",
        "outputId": "17512e49-cea4-4b22-ebff-50981cf82db8"
      },
      "execution_count": 1,
      "outputs": [
        {
          "output_type": "stream",
          "name": "stdout",
          "text": [
            "data Science\n"
          ]
        }
      ]
    },
    {
      "cell_type": "code",
      "source": [
        "if True:\n",
        "  print('Data Science')\n",
        "  print(\"Machine Learning\")"
      ],
      "metadata": {
        "colab": {
          "base_uri": "https://localhost:8080/",
          "height": 0
        },
        "id": "O3iidKHj8ky3",
        "outputId": "ca4c47e8-ef92-4026-a5ba-655043d98f0b"
      },
      "execution_count": 2,
      "outputs": [
        {
          "output_type": "stream",
          "name": "stdout",
          "text": [
            "Data Science\n",
            "Machine Learning\n"
          ]
        }
      ]
    },
    {
      "cell_type": "code",
      "source": [
        "if False:\n",
        "  print(\"Data Science\")\n",
        "print('Good bye')"
      ],
      "metadata": {
        "colab": {
          "base_uri": "https://localhost:8080/",
          "height": 0
        },
        "id": "isD3ZshP8vEp",
        "outputId": "c5dcd0d7-38c0-4ff6-c22a-473294fb366d"
      },
      "execution_count": 3,
      "outputs": [
        {
          "output_type": "stream",
          "name": "stdout",
          "text": [
            "Good bye\n"
          ]
        }
      ]
    },
    {
      "cell_type": "code",
      "source": [
        "if True:\n",
        "  print(\"Data Science\")\n",
        "else:\n",
        "  print(\"Good bye\")\n",
        "\n"
      ],
      "metadata": {
        "colab": {
          "base_uri": "https://localhost:8080/",
          "height": 0
        },
        "id": "NmVmIuTF83my",
        "outputId": "4d48479a-fc2c-4034-f1bb-2f3b6d4e99c4"
      },
      "execution_count": 4,
      "outputs": [
        {
          "output_type": "stream",
          "name": "stdout",
          "text": [
            "Data Science\n"
          ]
        }
      ]
    },
    {
      "cell_type": "code",
      "source": [
        "x = 4\n",
        "r = x % 2\n",
        "if r == 0:\n",
        "  print(\"Even Number\")"
      ],
      "metadata": {
        "colab": {
          "base_uri": "https://localhost:8080/",
          "height": 0
        },
        "id": "Ub-sXfWP9sv8",
        "outputId": "a92d85b5-bf7d-4b8e-8cae-7be092f445c6"
      },
      "execution_count": 5,
      "outputs": [
        {
          "output_type": "stream",
          "name": "stdout",
          "text": [
            "Even Number\n"
          ]
        }
      ]
    },
    {
      "cell_type": "code",
      "source": [
        "x = 5\n",
        "r = x % 2\n",
        "if r == 0:\n",
        "  print(\"Even Number\")"
      ],
      "metadata": {
        "id": "qRD0-4p29xcC"
      },
      "execution_count": 6,
      "outputs": []
    },
    {
      "cell_type": "code",
      "source": [
        "x = 9\n",
        "r = x % 2\n",
        "if r == 0:\n",
        "  print(\"Even Number\")\n",
        "if r == 1:\n",
        "  print(\"Odd Number\")"
      ],
      "metadata": {
        "colab": {
          "base_uri": "https://localhost:8080/",
          "height": 0
        },
        "id": "wYwoU1ya939m",
        "outputId": "154b8e98-12fb-4d81-a847-2b8cd799a788"
      },
      "execution_count": 7,
      "outputs": [
        {
          "output_type": "stream",
          "name": "stdout",
          "text": [
            "Odd Number\n"
          ]
        }
      ]
    },
    {
      "cell_type": "code",
      "source": [
        "x = 8\n",
        "r = x % 2\n",
        "if r == 0:\n",
        "  print(\"Even Number\")\n",
        "if r == 1:\n",
        "  print(\"odd Number\")"
      ],
      "metadata": {
        "colab": {
          "base_uri": "https://localhost:8080/",
          "height": 0
        },
        "id": "pnuDfLDc-phJ",
        "outputId": "868038f4-62ac-41f3-be16-4950f1c2a1b4"
      },
      "execution_count": 8,
      "outputs": [
        {
          "output_type": "stream",
          "name": "stdout",
          "text": [
            "Even Number\n"
          ]
        }
      ]
    },
    {
      "cell_type": "code",
      "source": [
        "x = 5\n",
        "r = x % 2\n",
        "if r == 0:\n",
        "  print(\"Even Number\")\n",
        "print(\"Odd Number\")"
      ],
      "metadata": {
        "colab": {
          "base_uri": "https://localhost:8080/",
          "height": 0
        },
        "id": "iSLV6dX4A_kQ",
        "outputId": "eaab105b-1c88-42d7-eaf5-771295b6f1a1"
      },
      "execution_count": 9,
      "outputs": [
        {
          "output_type": "stream",
          "name": "stdout",
          "text": [
            "Odd Number\n"
          ]
        }
      ]
    },
    {
      "cell_type": "code",
      "source": [
        "x = 4\n",
        "r = x % 2\n",
        "if r == 0:\n",
        "  print(\"Even Number\")\n",
        "\n",
        "print(\"Odd Number\")"
      ],
      "metadata": {
        "colab": {
          "base_uri": "https://localhost:8080/",
          "height": 0
        },
        "id": "xbxC0VcWBTcD",
        "outputId": "b7cc9b66-35ce-49da-9d41-f2ae10c3e4b9"
      },
      "execution_count": 11,
      "outputs": [
        {
          "output_type": "stream",
          "name": "stdout",
          "text": [
            "Even Number\n",
            "Odd Number\n"
          ]
        }
      ]
    },
    {
      "cell_type": "code",
      "source": [
        "x = 4\n",
        "r = x % 2\n",
        "if r == 0:\n",
        "  print(\"Even Number\")\n",
        "else:\n",
        "  print(\"Odd Number\")"
      ],
      "metadata": {
        "colab": {
          "base_uri": "https://localhost:8080/",
          "height": 0
        },
        "id": "t1qVRMmaBfEw",
        "outputId": "d97ad578-c06c-46fc-bb03-2570f781d28f"
      },
      "execution_count": 12,
      "outputs": [
        {
          "output_type": "stream",
          "name": "stdout",
          "text": [
            "Even Number\n"
          ]
        }
      ]
    },
    {
      "cell_type": "code",
      "source": [
        "x = 9\n",
        "r = x % 2\n",
        "if r == 0:\n",
        "  print(\"Even Number\")\n",
        "else:\n",
        "  print(\"Odd Number\")"
      ],
      "metadata": {
        "colab": {
          "base_uri": "https://localhost:8080/",
          "height": 0
        },
        "id": "yg0i6ccPBfB3",
        "outputId": "f0084d5e-7731-4347-f793-3ffae4c94ea6"
      },
      "execution_count": 14,
      "outputs": [
        {
          "output_type": "stream",
          "name": "stdout",
          "text": [
            "Odd Number\n"
          ]
        }
      ]
    },
    {
      "cell_type": "code",
      "source": [
        "x = 17\n",
        "r = x % 2\n",
        "if r == 0:\n",
        "  print(\"Even Number\")\n",
        "else:\n",
        "  print(\"Odd Number\")"
      ],
      "metadata": {
        "colab": {
          "base_uri": "https://localhost:8080/",
          "height": 0
        },
        "id": "R9PqjhwdBe-B",
        "outputId": "42c34576-104a-4ad5-983f-1ca8292bf77c"
      },
      "execution_count": 15,
      "outputs": [
        {
          "output_type": "stream",
          "name": "stdout",
          "text": [
            "Odd Number\n"
          ]
        }
      ]
    },
    {
      "cell_type": "code",
      "source": [
        "x = 18\n",
        "r = x % 2\n",
        "if r == 0:\n",
        "  print(\"Even Number\")\n",
        "else:\n",
        "  print(\"Odd Number\")"
      ],
      "metadata": {
        "colab": {
          "base_uri": "https://localhost:8080/",
          "height": 0
        },
        "id": "nAAraLEVBe77",
        "outputId": "be37ffc4-c038-49a2-8536-d034ff79603e"
      },
      "execution_count": 16,
      "outputs": [
        {
          "output_type": "stream",
          "name": "stdout",
          "text": [
            "Even Number\n"
          ]
        }
      ]
    },
    {
      "cell_type": "code",
      "source": [
        "x = 3\n",
        "r = x % 2\n",
        "if r == 0 :\n",
        "  print(\"Even Number\")\n",
        "  if x > 5:\n",
        "    print(\"Greater Number\")\n",
        "else:\n",
        "  print(\"Odd Number\")"
      ],
      "metadata": {
        "colab": {
          "base_uri": "https://localhost:8080/",
          "height": 0
        },
        "id": "y2N7dbcRBe4G",
        "outputId": "fe0b6053-9132-4bd4-f335-fc86c54466b5"
      },
      "execution_count": 17,
      "outputs": [
        {
          "output_type": "stream",
          "name": "stdout",
          "text": [
            "Odd Number\n"
          ]
        }
      ]
    },
    {
      "cell_type": "code",
      "source": [
        "x = 4\n",
        "r = x % 2\n",
        "if r == 0:\n",
        "  print(\"Even Number\")\n",
        "  if x > 5:\n",
        "    print(\"Greater Number\")\n",
        "else:\n",
        "  print(\"Odd Number\")\n"
      ],
      "metadata": {
        "colab": {
          "base_uri": "https://localhost:8080/",
          "height": 0
        },
        "id": "JGm8OMT6Be2T",
        "outputId": "69b1d2b1-8478-493b-a0a5-4dd68c386149"
      },
      "execution_count": 18,
      "outputs": [
        {
          "output_type": "stream",
          "name": "stdout",
          "text": [
            "Even Number\n"
          ]
        }
      ]
    },
    {
      "cell_type": "code",
      "source": [
        "x = 8\n",
        "r = x % 2\n",
        "if r == 0:\n",
        "  print(\"Even Number\")\n",
        "  if x > 5:\n",
        "    print(\"Greater Number\")\n",
        "else:\n",
        "  print(\"Odd Number\")"
      ],
      "metadata": {
        "colab": {
          "base_uri": "https://localhost:8080/",
          "height": 0
        },
        "id": "OmG5rgivCQbl",
        "outputId": "6532de09-b234-4b6b-a2ba-922540b8d252"
      },
      "execution_count": 19,
      "outputs": [
        {
          "output_type": "stream",
          "name": "stdout",
          "text": [
            "Even Number\n",
            "Greater Number\n"
          ]
        }
      ]
    },
    {
      "cell_type": "code",
      "source": [
        "x = 2\n",
        "r = x % 2\n",
        "if r == 0:\n",
        "  print(\"Even Number\")\n",
        "  if x > 5:\n",
        "    print(\"Greater Number\")\n",
        "  else:\n",
        "    print(\"Not Greater\")\n",
        "else:\n",
        "  print(\"Odd Number\")"
      ],
      "metadata": {
        "colab": {
          "base_uri": "https://localhost:8080/",
          "height": 0
        },
        "id": "3AzTy7KCCQYz",
        "outputId": "54022263-5674-4a5b-ecbc-b2a00f339d32"
      },
      "execution_count": 21,
      "outputs": [
        {
          "output_type": "stream",
          "name": "stdout",
          "text": [
            "Even Number\n",
            "Not Greater\n"
          ]
        }
      ]
    },
    {
      "cell_type": "code",
      "source": [
        "i = 1\n",
        "while i <= 10:\n",
        "  print(\"Data Science\")\n",
        "  i = i + 1"
      ],
      "metadata": {
        "colab": {
          "base_uri": "https://localhost:8080/",
          "height": 0
        },
        "id": "dg6R2rOzCQWH",
        "outputId": "9e271574-367e-4551-9948-b1f99444f4cf"
      },
      "execution_count": 22,
      "outputs": [
        {
          "output_type": "stream",
          "name": "stdout",
          "text": [
            "Data Science\n",
            "Data Science\n",
            "Data Science\n",
            "Data Science\n",
            "Data Science\n",
            "Data Science\n",
            "Data Science\n",
            "Data Science\n",
            "Data Science\n",
            "Data Science\n"
          ]
        }
      ]
    },
    {
      "cell_type": "code",
      "source": [
        "i = 10\n",
        "while i >= 1:\n",
        "  print(\"Data Science\")\n",
        "  i = i - 1"
      ],
      "metadata": {
        "colab": {
          "base_uri": "https://localhost:8080/",
          "height": 0
        },
        "id": "SMjOfoHTCQSd",
        "outputId": "9f9937f2-5480-4f68-c3b4-f4259d5bf501"
      },
      "execution_count": 23,
      "outputs": [
        {
          "output_type": "stream",
          "name": "stdout",
          "text": [
            "Data Science\n",
            "Data Science\n",
            "Data Science\n",
            "Data Science\n",
            "Data Science\n",
            "Data Science\n",
            "Data Science\n",
            "Data Science\n",
            "Data Science\n",
            "Data Science\n"
          ]
        }
      ]
    },
    {
      "cell_type": "code",
      "source": [
        "i = 1\n",
        "while i <= 5:\n",
        "  print(\"data science\")\n",
        "\n",
        "  j = 1\n",
        "  while j <= 4:\n",
        "    print(\"Technology\")\n",
        "    j = j + 1\n",
        "  i = i + 1\n",
        "  print()"
      ],
      "metadata": {
        "colab": {
          "base_uri": "https://localhost:8080/",
          "height": 0
        },
        "id": "W8q02oTYCQPC",
        "outputId": "f4dd1571-cd0b-4b3c-c320-cc3bbc4e4943"
      },
      "execution_count": 24,
      "outputs": [
        {
          "output_type": "stream",
          "name": "stdout",
          "text": [
            "data science\n",
            "Technology\n",
            "Technology\n",
            "Technology\n",
            "Technology\n",
            "\n",
            "data science\n",
            "Technology\n",
            "Technology\n",
            "Technology\n",
            "Technology\n",
            "\n",
            "data science\n",
            "Technology\n",
            "Technology\n",
            "Technology\n",
            "Technology\n",
            "\n",
            "data science\n",
            "Technology\n",
            "Technology\n",
            "Technology\n",
            "Technology\n",
            "\n",
            "data science\n",
            "Technology\n",
            "Technology\n",
            "Technology\n",
            "Technology\n",
            "\n"
          ]
        }
      ]
    },
    {
      "cell_type": "code",
      "source": [
        "i = 1\n",
        "while i <= 5:\n",
        "  print(\"Data Science\",end = \" \")\n",
        "\n",
        "  j=1\n",
        "  while j <= 4:\n",
        "    print(\"Technology\",end= \" \")\n",
        "    j = j + 1\n",
        "\n",
        "  i = i + 1\n",
        "  print()"
      ],
      "metadata": {
        "colab": {
          "base_uri": "https://localhost:8080/",
          "height": 0
        },
        "id": "bvsnsPRwJCo7",
        "outputId": "bfdd3653-2372-4b2b-9c05-52ab465d5038"
      },
      "execution_count": 26,
      "outputs": [
        {
          "output_type": "stream",
          "name": "stdout",
          "text": [
            "Data Science Technology Technology Technology Technology \n",
            "Data Science Technology Technology Technology Technology \n",
            "Data Science Technology Technology Technology Technology \n",
            "Data Science Technology Technology Technology Technology \n",
            "Data Science Technology Technology Technology Technology \n"
          ]
        }
      ]
    },
    {
      "cell_type": "code",
      "source": [],
      "metadata": {
        "id": "bN8KFtW3JXBR"
      },
      "execution_count": null,
      "outputs": []
    }
  ]
}